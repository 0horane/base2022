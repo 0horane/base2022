{
 "cells": [
  {
   "cell_type": "markdown",
   "id": "worthy-plane",
   "metadata": {
    "id": "equal-officer"
   },
   "source": [
    "# Proyecto\n",
    "\n",
    "En este modulo vamos a hacer un proyecto entero de aprendizaje supervisado, pasando por todos los pasos del mismo, los cuales son:\n",
    "\n",
    "* Definición del problema.\n",
    "* Búsqueda de datos. \n",
    "* Análisis exploratorio y limpieza.\n",
    "* Separación de entrenamiento y validación.\n",
    "* Entrenamiento.\n",
    "* Prueba.\n",
    "* Presentación de resultados. \n",
    "\n",
    "## Definición del problema\n",
    "\n",
    "Todo proyecto de aprendizaje automático parte de una pregunta que se quiere responder, en este caso la pregunta es:\n",
    "\n",
    "**¿Cuál será la temperatura de acuerdo a determinadas características?**\n",
    "\n",
    "## Búsqueda de datos\n",
    "\n",
    "El dataset que se utilizará es sobre datos climáticos donde de acuerdo a determinadas variables (humedad, velocidad del viento, rumbo del viento, visibilidad, presión, si llueve y descripción) se puede predecir la temperatura.\n",
    "Esta basado en el dataset descargable en [Kaggle](https://www.kaggle.com/zakriarehman/weather-data-for-linear-regression) pero tiene realizadas algunas modificaciones por lo que debe ser tomado desde el archivo csv descargado desde la plataforma. \n",
    "\n",
    "\n",
    "#### Exploración del dataset\n",
    "\n",
    "En el transcurso de este Módulo vamos a hacer un proyecto de Ciencia de Datos desde el principio viendo en cada encuentro un aspecto específico del mismo: exploración inicial y visualizaciones, limpieza de datos (nulos, variables dummies), división de datos para entrenamiento y testeo y entrenamiento y testeo de un modelo.\n",
    "\n",
    "\n",
    "\n",
    "Comenzemos por leer el dataset y hacer la primer exploración del mismo. "
   ]
  },
  {
   "cell_type": "code",
   "execution_count": 2,
   "id": "improved-paris",
   "metadata": {
    "id": "altered-exemption"
   },
   "outputs": [],
   "source": [
    "#importamos las librerias que utilizaremos\n",
    "\n",
    "import pandas as pd\n",
    "import matplotlib.pyplot as plt  \n",
    "import seaborn as sns"
   ]
  },
  {
   "cell_type": "markdown",
   "id": "technical-swimming",
   "metadata": {
    "id": "agreed-corps"
   },
   "source": [
    "#### Desde el Drive\n"
   ]
  },
  {
   "cell_type": "code",
   "execution_count": null,
   "id": "advisory-houston",
   "metadata": {
    "colab": {
     "base_uri": "https://localhost:8080/"
    },
    "executionInfo": {
     "elapsed": 2042,
     "status": "ok",
     "timestamp": 1646446639754,
     "user": {
      "displayName": "Valeria Bellino",
      "photoUrl": "https://lh3.googleusercontent.com/a/default-user=s64",
      "userId": "05918551666787590515"
     },
     "user_tz": 180
    },
    "id": "nutritional-torture",
    "outputId": "52c3ef3b-81c2-455e-c6a0-ec39de3b3396"
   },
   "outputs": [
    {
     "name": "stdout",
     "output_type": "stream",
     "text": [
      "Drive already mounted at /content/drive; to attempt to forcibly remount, call drive.mount(\"/content/drive\", force_remount=True).\n"
     ]
    }
   ],
   "source": [
    "from google.colab import drive\n",
    "drive.mount('/content/drive')\n"
   ]
  },
  {
   "cell_type": "code",
   "execution_count": 4,
   "id": "reasonable-blood",
   "metadata": {
    "id": "advisory-blackjack"
   },
   "outputs": [],
   "source": [
    "data = pd.read_csv(\"Dataset Clima.csv\")"
   ]
  },
  {
   "cell_type": "markdown",
   "id": "irish-federation",
   "metadata": {
    "id": "pediatric-royalty"
   },
   "source": [
    "#### Desde el archivo descargado en la computadora"
   ]
  },
  {
   "cell_type": "code",
   "execution_count": null,
   "id": "crude-finland",
   "metadata": {
    "id": "complimentary-balloon"
   },
   "outputs": [],
   "source": [
    "from google.colab import files\n",
    "import io\n",
    "\n",
    "#filesUploaded = files.upload()"
   ]
  },
  {
   "cell_type": "code",
   "execution_count": 5,
   "id": "vertical-yield",
   "metadata": {
    "colab": {
     "base_uri": "https://localhost:8080/",
     "height": 143
    },
    "executionInfo": {
     "elapsed": 17,
     "status": "ok",
     "timestamp": 1646446639755,
     "user": {
      "displayName": "Valeria Bellino",
      "photoUrl": "https://lh3.googleusercontent.com/a/default-user=s64",
      "userId": "05918551666787590515"
     },
     "user_tz": 180
    },
    "id": "warming-testing",
    "outputId": "de85f21e-9b14-4f11-c256-6395455ad3be"
   },
   "outputs": [
    {
     "data": {
      "text/html": [
       "<div>\n",
       "<style scoped>\n",
       "    .dataframe tbody tr th:only-of-type {\n",
       "        vertical-align: middle;\n",
       "    }\n",
       "\n",
       "    .dataframe tbody tr th {\n",
       "        vertical-align: top;\n",
       "    }\n",
       "\n",
       "    .dataframe thead th {\n",
       "        text-align: right;\n",
       "    }\n",
       "</style>\n",
       "<table border=\"1\" class=\"dataframe\">\n",
       "  <thead>\n",
       "    <tr style=\"text-align: right;\">\n",
       "      <th></th>\n",
       "      <th>id</th>\n",
       "      <th>Humidity</th>\n",
       "      <th>Wind_Speed_kmh</th>\n",
       "      <th>rumbo_viento_grados</th>\n",
       "      <th>visibilidad_km</th>\n",
       "      <th>presion_mbar</th>\n",
       "      <th>lluvia</th>\n",
       "      <th>descripcion</th>\n",
       "      <th>temperatura</th>\n",
       "    </tr>\n",
       "  </thead>\n",
       "  <tbody>\n",
       "    <tr>\n",
       "      <th>0</th>\n",
       "      <td>0</td>\n",
       "      <td>0.92</td>\n",
       "      <td>11.27</td>\n",
       "      <td>130.0</td>\n",
       "      <td>8.05</td>\n",
       "      <td>1021.60</td>\n",
       "      <td>no</td>\n",
       "      <td>Cold</td>\n",
       "      <td>-0.56</td>\n",
       "    </tr>\n",
       "    <tr>\n",
       "      <th>1</th>\n",
       "      <td>1</td>\n",
       "      <td>0.73</td>\n",
       "      <td>20.93</td>\n",
       "      <td>330.0</td>\n",
       "      <td>16.10</td>\n",
       "      <td>1017.00</td>\n",
       "      <td>si</td>\n",
       "      <td>Warm</td>\n",
       "      <td>21.11</td>\n",
       "    </tr>\n",
       "    <tr>\n",
       "      <th>2</th>\n",
       "      <td>2</td>\n",
       "      <td>0.97</td>\n",
       "      <td>5.97</td>\n",
       "      <td>193.0</td>\n",
       "      <td>14.91</td>\n",
       "      <td>1013.99</td>\n",
       "      <td>si</td>\n",
       "      <td>Normal</td>\n",
       "      <td>16.60</td>\n",
       "    </tr>\n",
       "  </tbody>\n",
       "</table>\n",
       "</div>"
      ],
      "text/plain": [
       "   id  Humidity  Wind_Speed_kmh  rumbo_viento_grados  visibilidad_km  \\\n",
       "0   0      0.92           11.27                130.0            8.05   \n",
       "1   1      0.73           20.93                330.0           16.10   \n",
       "2   2      0.97            5.97                193.0           14.91   \n",
       "\n",
       "   presion_mbar lluvia descripcion  temperatura  \n",
       "0       1021.60     no        Cold        -0.56  \n",
       "1       1017.00     si        Warm        21.11  \n",
       "2       1013.99     si      Normal        16.60  "
      ]
     },
     "execution_count": 5,
     "metadata": {},
     "output_type": "execute_result"
    }
   ],
   "source": [
    "#vemos los primeros registros del dataset\n",
    "\n",
    "data.head(3)"
   ]
  },
  {
   "cell_type": "code",
   "execution_count": 4,
   "id": "native-kennedy",
   "metadata": {
    "colab": {
     "base_uri": "https://localhost:8080/"
    },
    "executionInfo": {
     "elapsed": 17,
     "status": "ok",
     "timestamp": 1646446639756,
     "user": {
      "displayName": "Valeria Bellino",
      "photoUrl": "https://lh3.googleusercontent.com/a/default-user=s64",
      "userId": "05918551666787590515"
     },
     "user_tz": 180
    },
    "id": "adjusted-holmes",
    "outputId": "2f22bba6-6b8d-4d19-a26f-0591393db81e"
   },
   "outputs": [
    {
     "data": {
      "text/plain": [
       "(10000, 9)"
      ]
     },
     "execution_count": 4,
     "metadata": {},
     "output_type": "execute_result"
    }
   ],
   "source": [
    "# Vemos el tamaño del dataset\n",
    "\n",
    "data.shape"
   ]
  },
  {
   "cell_type": "code",
   "execution_count": 5,
   "id": "three-black",
   "metadata": {
    "colab": {
     "base_uri": "https://localhost:8080/"
    },
    "executionInfo": {
     "elapsed": 15,
     "status": "ok",
     "timestamp": 1646446639756,
     "user": {
      "displayName": "Valeria Bellino",
      "photoUrl": "https://lh3.googleusercontent.com/a/default-user=s64",
      "userId": "05918551666787590515"
     },
     "user_tz": 180
    },
    "id": "natural-thong",
    "outputId": "78b97338-a3e1-471d-c483-705d64ddbae9"
   },
   "outputs": [
    {
     "data": {
      "text/plain": [
       "id                       int64\n",
       "Humidity               float64\n",
       "Wind_Speed_kmh         float64\n",
       "rumbo_viento_grados    float64\n",
       "visibilidad_km         float64\n",
       "presion_mbar           float64\n",
       "lluvia                  object\n",
       "descripcion             object\n",
       "temperatura            float64\n",
       "dtype: object"
      ]
     },
     "execution_count": 5,
     "metadata": {},
     "output_type": "execute_result"
    }
   ],
   "source": [
    "# Vemos los tipos de datos\n",
    "\n",
    "data.dtypes"
   ]
  },
  {
   "cell_type": "markdown",
   "id": "induced-wellington",
   "metadata": {
    "id": "metric-bishop"
   },
   "source": [
    "Es importante observar si el Dataset tiene datos nulos, es decir registros vacíos que no tienen ningún valor. Para esto utilizaremos el método *isnull()* pero veremos esta cuestión en profundidad en el encuentro que viene."
   ]
  },
  {
   "cell_type": "code",
   "execution_count": 6,
   "id": "dried-slope",
   "metadata": {
    "colab": {
     "base_uri": "https://localhost:8080/"
    },
    "executionInfo": {
     "elapsed": 14,
     "status": "ok",
     "timestamp": 1646446639756,
     "user": {
      "displayName": "Valeria Bellino",
      "photoUrl": "https://lh3.googleusercontent.com/a/default-user=s64",
      "userId": "05918551666787590515"
     },
     "user_tz": 180
    },
    "id": "otherwise-bearing",
    "outputId": "ec4116c6-c3f2-4d0a-a6c9-9cd27ca321ef"
   },
   "outputs": [
    {
     "data": {
      "text/plain": [
       "id                     0\n",
       "Humidity               5\n",
       "Wind_Speed_kmh         5\n",
       "rumbo_viento_grados    5\n",
       "visibilidad_km         5\n",
       "presion_mbar           9\n",
       "lluvia                 1\n",
       "descripcion            8\n",
       "temperatura            0\n",
       "dtype: int64"
      ]
     },
     "execution_count": 6,
     "metadata": {},
     "output_type": "execute_result"
    }
   ],
   "source": [
    "data.isnull().sum()"
   ]
  },
  {
   "cell_type": "markdown",
   "id": "hawaiian-wrong",
   "metadata": {
    "id": "through-court"
   },
   "source": [
    "### Columnas\n",
    "\n",
    "Realizaremos una exploración de cada una de las columnas."
   ]
  },
  {
   "cell_type": "code",
   "execution_count": 7,
   "id": "false-contemporary",
   "metadata": {
    "colab": {
     "base_uri": "https://localhost:8080/"
    },
    "executionInfo": {
     "elapsed": 12,
     "status": "ok",
     "timestamp": 1646446639756,
     "user": {
      "displayName": "Valeria Bellino",
      "photoUrl": "https://lh3.googleusercontent.com/a/default-user=s64",
      "userId": "05918551666787590515"
     },
     "user_tz": 180
    },
    "id": "thrown-penguin",
    "outputId": "865eb9a0-6f81-4179-b69e-d99accb7cd3a"
   },
   "outputs": [
    {
     "data": {
      "text/plain": [
       "Index(['id', 'Humidity', 'Wind_Speed_kmh', 'rumbo_viento_grados',\n",
       "       'visibilidad_km', 'presion_mbar', 'lluvia', 'descripcion',\n",
       "       'temperatura'],\n",
       "      dtype='object')"
      ]
     },
     "execution_count": 7,
     "metadata": {},
     "output_type": "execute_result"
    }
   ],
   "source": [
    "# Vemos los nombres de las columnas\n",
    "\n",
    "data.columns"
   ]
  },
  {
   "cell_type": "code",
   "execution_count": 8,
   "id": "western-liabilities",
   "metadata": {
    "id": "judicial-wayne"
   },
   "outputs": [],
   "source": [
    "# cambiamos los nombres de las columnas para que esten todas en castellano\n",
    "\n",
    "dict_renombrar= {\"Humidity\":\"humedad\", \"Wind_Speed_kmh\":\"velocidad_viento_kmh\"}\n",
    "\n",
    "data.rename(columns=dict_renombrar, inplace =True)"
   ]
  },
  {
   "cell_type": "code",
   "execution_count": 9,
   "id": "mental-program",
   "metadata": {
    "colab": {
     "base_uri": "https://localhost:8080/",
     "height": 112
    },
    "executionInfo": {
     "elapsed": 12,
     "status": "ok",
     "timestamp": 1646446639757,
     "user": {
      "displayName": "Valeria Bellino",
      "photoUrl": "https://lh3.googleusercontent.com/a/default-user=s64",
      "userId": "05918551666787590515"
     },
     "user_tz": 180
    },
    "id": "duplicate-camcorder",
    "outputId": "662e1dd0-8d33-492a-a7b5-28d6f8adf5bd"
   },
   "outputs": [
    {
     "data": {
      "text/html": [
       "<div>\n",
       "<style scoped>\n",
       "    .dataframe tbody tr th:only-of-type {\n",
       "        vertical-align: middle;\n",
       "    }\n",
       "\n",
       "    .dataframe tbody tr th {\n",
       "        vertical-align: top;\n",
       "    }\n",
       "\n",
       "    .dataframe thead th {\n",
       "        text-align: right;\n",
       "    }\n",
       "</style>\n",
       "<table border=\"1\" class=\"dataframe\">\n",
       "  <thead>\n",
       "    <tr style=\"text-align: right;\">\n",
       "      <th></th>\n",
       "      <th>id</th>\n",
       "      <th>humedad</th>\n",
       "      <th>velocidad_viento_kmh</th>\n",
       "      <th>rumbo_viento_grados</th>\n",
       "      <th>visibilidad_km</th>\n",
       "      <th>presion_mbar</th>\n",
       "      <th>lluvia</th>\n",
       "      <th>descripcion</th>\n",
       "      <th>temperatura</th>\n",
       "    </tr>\n",
       "  </thead>\n",
       "  <tbody>\n",
       "    <tr>\n",
       "      <th>0</th>\n",
       "      <td>0</td>\n",
       "      <td>0.92</td>\n",
       "      <td>11.27</td>\n",
       "      <td>130.0</td>\n",
       "      <td>8.05</td>\n",
       "      <td>1021.6</td>\n",
       "      <td>no</td>\n",
       "      <td>Cold</td>\n",
       "      <td>-0.56</td>\n",
       "    </tr>\n",
       "    <tr>\n",
       "      <th>1</th>\n",
       "      <td>1</td>\n",
       "      <td>0.73</td>\n",
       "      <td>20.93</td>\n",
       "      <td>330.0</td>\n",
       "      <td>16.10</td>\n",
       "      <td>1017.0</td>\n",
       "      <td>si</td>\n",
       "      <td>Warm</td>\n",
       "      <td>21.11</td>\n",
       "    </tr>\n",
       "  </tbody>\n",
       "</table>\n",
       "</div>"
      ],
      "text/plain": [
       "   id  humedad  velocidad_viento_kmh  rumbo_viento_grados  visibilidad_km  \\\n",
       "0   0     0.92                 11.27                130.0            8.05   \n",
       "1   1     0.73                 20.93                330.0           16.10   \n",
       "\n",
       "   presion_mbar lluvia descripcion  temperatura  \n",
       "0        1021.6     no        Cold        -0.56  \n",
       "1        1017.0     si        Warm        21.11  "
      ]
     },
     "execution_count": 9,
     "metadata": {},
     "output_type": "execute_result"
    }
   ],
   "source": [
    "data.head(2)"
   ]
  },
  {
   "cell_type": "markdown",
   "id": "brown-quilt",
   "metadata": {
    "id": "accredited-greene"
   },
   "source": [
    "#### Variables numéricas\n",
    "\n",
    "Para observar la distribución de las **variables numéricas** podemos utilizar el método *describe* que muestra de cada columna:\n",
    "\n",
    "* **_count_**: Cantidad de datos, esto es muy útil para saber cuáles columnas tienen datos nulos y cuantos. \n",
    "* **_mean_**: La media aritmetica de los datos, o promedio, se calcula como la suma de todos los datos dividido la cantidad de datos sumados. \n",
    "* **_std_**: Desviación standard, es una medida de que tan dispersos están los datos o que tanta variedad hay en los mismos.\n",
    "* **_min_**: El valor mínimo encontrado en los datos.\n",
    "* **_25%_**: Llamado primer cuartil, representa el número tal que el 25% de los datos es menor a el.\n",
    "* **_50%_**: Llamado segundo cuartil o mediana, representa el número tal que el 50% de los datos es menor a el. \n",
    "* **_75%_**: Llamado tercer cuartil, representa el número tal que el 75% de los datos es menor a el. \n",
    "* **_max_**: El valor máximo encontrado en los datos. \n",
    " \n",
    "Estas medidas son de mucha utilidad para tener una aproximación de cómo es cada variable, y más adelante nos servirán para tener una primera idea de que variables son buenas para realizar predicciones. \n"
   ]
  },
  {
   "cell_type": "code",
   "execution_count": 10,
   "id": "invalid-consistency",
   "metadata": {
    "colab": {
     "base_uri": "https://localhost:8080/",
     "height": 300
    },
    "executionInfo": {
     "elapsed": 12,
     "status": "ok",
     "timestamp": 1646446639757,
     "user": {
      "displayName": "Valeria Bellino",
      "photoUrl": "https://lh3.googleusercontent.com/a/default-user=s64",
      "userId": "05918551666787590515"
     },
     "user_tz": 180
    },
    "id": "sonic-juice",
    "outputId": "ad00e0b5-598d-43af-8747-e05daea36f42"
   },
   "outputs": [
    {
     "data": {
      "text/html": [
       "<div>\n",
       "<style scoped>\n",
       "    .dataframe tbody tr th:only-of-type {\n",
       "        vertical-align: middle;\n",
       "    }\n",
       "\n",
       "    .dataframe tbody tr th {\n",
       "        vertical-align: top;\n",
       "    }\n",
       "\n",
       "    .dataframe thead th {\n",
       "        text-align: right;\n",
       "    }\n",
       "</style>\n",
       "<table border=\"1\" class=\"dataframe\">\n",
       "  <thead>\n",
       "    <tr style=\"text-align: right;\">\n",
       "      <th></th>\n",
       "      <th>id</th>\n",
       "      <th>humedad</th>\n",
       "      <th>velocidad_viento_kmh</th>\n",
       "      <th>rumbo_viento_grados</th>\n",
       "      <th>visibilidad_km</th>\n",
       "      <th>presion_mbar</th>\n",
       "      <th>temperatura</th>\n",
       "    </tr>\n",
       "  </thead>\n",
       "  <tbody>\n",
       "    <tr>\n",
       "      <th>count</th>\n",
       "      <td>10000.00000</td>\n",
       "      <td>9995.000000</td>\n",
       "      <td>9995.000000</td>\n",
       "      <td>9995.000000</td>\n",
       "      <td>9995.000000</td>\n",
       "      <td>9991.000000</td>\n",
       "      <td>10000.000000</td>\n",
       "    </tr>\n",
       "    <tr>\n",
       "      <th>mean</th>\n",
       "      <td>4999.50000</td>\n",
       "      <td>0.735334</td>\n",
       "      <td>10.813809</td>\n",
       "      <td>185.947274</td>\n",
       "      <td>10.372852</td>\n",
       "      <td>1004.884407</td>\n",
       "      <td>11.857190</td>\n",
       "    </tr>\n",
       "    <tr>\n",
       "      <th>std</th>\n",
       "      <td>2886.89568</td>\n",
       "      <td>0.195459</td>\n",
       "      <td>6.972945</td>\n",
       "      <td>107.477976</td>\n",
       "      <td>4.179357</td>\n",
       "      <td>109.665639</td>\n",
       "      <td>9.512215</td>\n",
       "    </tr>\n",
       "    <tr>\n",
       "      <th>min</th>\n",
       "      <td>0.00000</td>\n",
       "      <td>0.000000</td>\n",
       "      <td>0.000000</td>\n",
       "      <td>0.000000</td>\n",
       "      <td>0.000000</td>\n",
       "      <td>0.000000</td>\n",
       "      <td>-21.820000</td>\n",
       "    </tr>\n",
       "    <tr>\n",
       "      <th>25%</th>\n",
       "      <td>2499.75000</td>\n",
       "      <td>0.600000</td>\n",
       "      <td>5.750000</td>\n",
       "      <td>112.000000</td>\n",
       "      <td>8.285000</td>\n",
       "      <td>1011.890000</td>\n",
       "      <td>4.660000</td>\n",
       "    </tr>\n",
       "    <tr>\n",
       "      <th>50%</th>\n",
       "      <td>4999.50000</td>\n",
       "      <td>0.780000</td>\n",
       "      <td>9.930000</td>\n",
       "      <td>179.000000</td>\n",
       "      <td>10.050000</td>\n",
       "      <td>1016.500000</td>\n",
       "      <td>11.560000</td>\n",
       "    </tr>\n",
       "    <tr>\n",
       "      <th>75%</th>\n",
       "      <td>7499.25000</td>\n",
       "      <td>0.900000</td>\n",
       "      <td>14.100000</td>\n",
       "      <td>290.000000</td>\n",
       "      <td>14.880000</td>\n",
       "      <td>1021.105000</td>\n",
       "      <td>18.820000</td>\n",
       "    </tr>\n",
       "    <tr>\n",
       "      <th>max</th>\n",
       "      <td>9999.00000</td>\n",
       "      <td>1.000000</td>\n",
       "      <td>53.240000</td>\n",
       "      <td>359.000000</td>\n",
       "      <td>16.100000</td>\n",
       "      <td>1045.380000</td>\n",
       "      <td>38.840000</td>\n",
       "    </tr>\n",
       "  </tbody>\n",
       "</table>\n",
       "</div>"
      ],
      "text/plain": [
       "                id      humedad  velocidad_viento_kmh  rumbo_viento_grados  \\\n",
       "count  10000.00000  9995.000000           9995.000000          9995.000000   \n",
       "mean    4999.50000     0.735334             10.813809           185.947274   \n",
       "std     2886.89568     0.195459              6.972945           107.477976   \n",
       "min        0.00000     0.000000              0.000000             0.000000   \n",
       "25%     2499.75000     0.600000              5.750000           112.000000   \n",
       "50%     4999.50000     0.780000              9.930000           179.000000   \n",
       "75%     7499.25000     0.900000             14.100000           290.000000   \n",
       "max     9999.00000     1.000000             53.240000           359.000000   \n",
       "\n",
       "       visibilidad_km  presion_mbar   temperatura  \n",
       "count     9995.000000   9991.000000  10000.000000  \n",
       "mean        10.372852   1004.884407     11.857190  \n",
       "std          4.179357    109.665639      9.512215  \n",
       "min          0.000000      0.000000    -21.820000  \n",
       "25%          8.285000   1011.890000      4.660000  \n",
       "50%         10.050000   1016.500000     11.560000  \n",
       "75%         14.880000   1021.105000     18.820000  \n",
       "max         16.100000   1045.380000     38.840000  "
      ]
     },
     "execution_count": 10,
     "metadata": {},
     "output_type": "execute_result"
    }
   ],
   "source": [
    "data.describe()"
   ]
  },
  {
   "cell_type": "markdown",
   "id": "limiting-engagement",
   "metadata": {
    "id": "tutorial-liability"
   },
   "source": [
    "##### Relación entre variables \n",
    " \n",
    "Es importante analizar qué tan relacionadas están las variables con las que se está trabajando, esto es, analizar si se tiene información repetida o variables que representan practicamente lo mismo. \n",
    "\n",
    "Para esto existe un índice llamado correlación. \n",
    " \n",
    "El índice de correlación es un valor entre -1 y 1 con las siguiente caracteristicas: \n",
    "* Cuando la correlación entre dos variables está cerca de 1 significa que las variables están relacionadas de forma lineal y positiva. Esto significa que cuando una variable crece o decrece la otra también lo hace. \n",
    "* Cuando la correlación está cerca de -1 significa que las variables están relacionadas de forma lineal y negativa. Esto significa que cuando una variable crece o decrece, la otra hace lo opuesto.\n",
    "* Si la correlación es cercana a 0 significa que no hay relación lineal entre el comportamiento de ambas variables.  \n",
    "* La correlación solo mide relaciones lineales, puede que las variables tengan algún otro tipo de relación, por ejemplo si $Y = X^2$ la correlación dara cercana a 0, sin embargo, $Y$ esta claramente relacionada a $X$.\n",
    "* Cuando la correlación entre dos variables es cercana a 1 o a -1 se dice que estan altamente correlacionadas. \n",
    " \n",
    "Es importante resaltar, que una alta correlación (sea positiva o negativa) no implica causalidad, es decir, que dos variables estén altamente correlacionadas no significa que el movimiento de una se debió al movimiento de la otra. \n",
    "\n",
    "Debemos hacer todo esto ya que, si incluimos en el entrenamiento de un modelo, dos variables que realmente representan la misma variable, le estamos dando mayor importancia a esa caracteristica sobre el resto. \n",
    " \n",
    "Para poder observar que variables tienen mayor influencia en la predicción de la temperatura utilizaremos el método *corr()* que permite observar la correlación entre variables numéricas. La salida es lo que llamamos matriz de correlaciones. Esta es una matriz triangular, es decir, los valores sobre la diagonal son iguales a los encontrados bajo la diagonal de la matriz.\n",
    "Además utilizaremos un gráfico [heatmap](https://seaborn.pydata.org/generated/seaborn.heatmap.html?highlight=heatmap#seaborn.heatmap) para visualizarlo mejor."
   ]
  },
  {
   "cell_type": "code",
   "execution_count": 11,
   "id": "early-secretariat",
   "metadata": {
    "colab": {
     "base_uri": "https://localhost:8080/"
    },
    "executionInfo": {
     "elapsed": 11,
     "status": "ok",
     "timestamp": 1646446639757,
     "user": {
      "displayName": "Valeria Bellino",
      "photoUrl": "https://lh3.googleusercontent.com/a/default-user=s64",
      "userId": "05918551666787590515"
     },
     "user_tz": 180
    },
    "id": "allied-porcelain",
    "outputId": "37149a1a-f863-4487-9022-6af3d9369ca4"
   },
   "outputs": [
    {
     "data": {
      "text/html": [
       "<div>\n",
       "<style scoped>\n",
       "    .dataframe tbody tr th:only-of-type {\n",
       "        vertical-align: middle;\n",
       "    }\n",
       "\n",
       "    .dataframe tbody tr th {\n",
       "        vertical-align: top;\n",
       "    }\n",
       "\n",
       "    .dataframe thead th {\n",
       "        text-align: right;\n",
       "    }\n",
       "</style>\n",
       "<table border=\"1\" class=\"dataframe\">\n",
       "  <thead>\n",
       "    <tr style=\"text-align: right;\">\n",
       "      <th></th>\n",
       "      <th>id</th>\n",
       "      <th>humedad</th>\n",
       "      <th>velocidad_viento_kmh</th>\n",
       "      <th>rumbo_viento_grados</th>\n",
       "      <th>visibilidad_km</th>\n",
       "      <th>presion_mbar</th>\n",
       "      <th>temperatura</th>\n",
       "    </tr>\n",
       "  </thead>\n",
       "  <tbody>\n",
       "    <tr>\n",
       "      <th>id</th>\n",
       "      <td>1.000000</td>\n",
       "      <td>0.005614</td>\n",
       "      <td>-0.012223</td>\n",
       "      <td>-0.012235</td>\n",
       "      <td>-0.003619</td>\n",
       "      <td>0.001109</td>\n",
       "      <td>-0.006969</td>\n",
       "    </tr>\n",
       "    <tr>\n",
       "      <th>humedad</th>\n",
       "      <td>0.005614</td>\n",
       "      <td>1.000000</td>\n",
       "      <td>-0.222691</td>\n",
       "      <td>-0.007590</td>\n",
       "      <td>-0.375662</td>\n",
       "      <td>-0.011142</td>\n",
       "      <td>-0.628784</td>\n",
       "    </tr>\n",
       "    <tr>\n",
       "      <th>velocidad_viento_kmh</th>\n",
       "      <td>-0.012223</td>\n",
       "      <td>-0.222691</td>\n",
       "      <td>1.000000</td>\n",
       "      <td>0.108552</td>\n",
       "      <td>0.100517</td>\n",
       "      <td>-0.051101</td>\n",
       "      <td>0.009679</td>\n",
       "    </tr>\n",
       "    <tr>\n",
       "      <th>rumbo_viento_grados</th>\n",
       "      <td>-0.012235</td>\n",
       "      <td>-0.007590</td>\n",
       "      <td>0.108552</td>\n",
       "      <td>1.000000</td>\n",
       "      <td>0.052067</td>\n",
       "      <td>-0.005622</td>\n",
       "      <td>0.031384</td>\n",
       "    </tr>\n",
       "    <tr>\n",
       "      <th>visibilidad_km</th>\n",
       "      <td>-0.003619</td>\n",
       "      <td>-0.375662</td>\n",
       "      <td>0.100517</td>\n",
       "      <td>0.052067</td>\n",
       "      <td>1.000000</td>\n",
       "      <td>0.066664</td>\n",
       "      <td>0.389392</td>\n",
       "    </tr>\n",
       "    <tr>\n",
       "      <th>presion_mbar</th>\n",
       "      <td>0.001109</td>\n",
       "      <td>-0.011142</td>\n",
       "      <td>-0.051101</td>\n",
       "      <td>-0.005622</td>\n",
       "      <td>0.066664</td>\n",
       "      <td>1.000000</td>\n",
       "      <td>0.013710</td>\n",
       "    </tr>\n",
       "    <tr>\n",
       "      <th>temperatura</th>\n",
       "      <td>-0.006969</td>\n",
       "      <td>-0.628784</td>\n",
       "      <td>0.009679</td>\n",
       "      <td>0.031384</td>\n",
       "      <td>0.389392</td>\n",
       "      <td>0.013710</td>\n",
       "      <td>1.000000</td>\n",
       "    </tr>\n",
       "  </tbody>\n",
       "</table>\n",
       "</div>"
      ],
      "text/plain": [
       "                            id   humedad  velocidad_viento_kmh  \\\n",
       "id                    1.000000  0.005614             -0.012223   \n",
       "humedad               0.005614  1.000000             -0.222691   \n",
       "velocidad_viento_kmh -0.012223 -0.222691              1.000000   \n",
       "rumbo_viento_grados  -0.012235 -0.007590              0.108552   \n",
       "visibilidad_km       -0.003619 -0.375662              0.100517   \n",
       "presion_mbar          0.001109 -0.011142             -0.051101   \n",
       "temperatura          -0.006969 -0.628784              0.009679   \n",
       "\n",
       "                      rumbo_viento_grados  visibilidad_km  presion_mbar  \\\n",
       "id                              -0.012235       -0.003619      0.001109   \n",
       "humedad                         -0.007590       -0.375662     -0.011142   \n",
       "velocidad_viento_kmh             0.108552        0.100517     -0.051101   \n",
       "rumbo_viento_grados              1.000000        0.052067     -0.005622   \n",
       "visibilidad_km                   0.052067        1.000000      0.066664   \n",
       "presion_mbar                    -0.005622        0.066664      1.000000   \n",
       "temperatura                      0.031384        0.389392      0.013710   \n",
       "\n",
       "                      temperatura  \n",
       "id                      -0.006969  \n",
       "humedad                 -0.628784  \n",
       "velocidad_viento_kmh     0.009679  \n",
       "rumbo_viento_grados      0.031384  \n",
       "visibilidad_km           0.389392  \n",
       "presion_mbar             0.013710  \n",
       "temperatura              1.000000  "
      ]
     },
     "execution_count": 11,
     "metadata": {},
     "output_type": "execute_result"
    }
   ],
   "source": [
    "data.corr()"
   ]
  },
  {
   "cell_type": "code",
   "execution_count": 7,
   "id": "sexual-james",
   "metadata": {
    "colab": {
     "base_uri": "https://localhost:8080/"
    },
    "executionInfo": {
     "elapsed": 717,
     "status": "ok",
     "timestamp": 1646446640464,
     "user": {
      "displayName": "Valeria Bellino",
      "photoUrl": "https://lh3.googleusercontent.com/a/default-user=s64",
      "userId": "05918551666787590515"
     },
     "user_tz": 180
    },
    "id": "innovative-heart",
    "outputId": "493634d3-0eef-4ba1-bdfc-283648718ca2"
   },
   "outputs": [
    {
     "data": {
      "text/plain": [
       "<AxesSubplot:>"
      ]
     },
     "execution_count": 7,
     "metadata": {},
     "output_type": "execute_result"
    },
    {
     "data": {
      "image/png": "[encoded data removed]",
      "text/plain": [
       "<Figure size 432x288 with 2 Axes>"
      ]
     },
     "metadata": {
      "needs_background": "light"
     },
     "output_type": "display_data"
    }
   ],
   "source": [
    "sns.heatmap(data.corr(), annot=True)"
   ]
  },
  {
   "cell_type": "markdown",
   "id": "regulated-observation",
   "metadata": {
    "id": "olive-cattle"
   },
   "source": [
    "##### Temperatura\n",
    "\n",
    "En primer lugar observaremos la columna **temperatura** que es la que intentaremos predecir. Como observamos anteriormente es de tipo *float*, es decir un número decimal.\n",
    "\n",
    "Vamos a observar el mímino, el máximo y el promedio y con ayuda de un gráfico [displot](https://seaborn.pydata.org/generated/seaborn.distplot.html) observaremos su distribución.\n"
   ]
  },
  {
   "cell_type": "code",
   "execution_count": 6,
   "id": "saving-creator",
   "metadata": {
    "colab": {
     "base_uri": "https://localhost:8080/"
    },
    "executionInfo": {
     "elapsed": 485,
     "status": "ok",
     "timestamp": 1646446640945,
     "user": {
      "displayName": "Valeria Bellino",
      "photoUrl": "https://lh3.googleusercontent.com/a/default-user=s64",
      "userId": "05918551666787590515"
     },
     "user_tz": 180
    },
    "id": "paperback-mediterranean",
    "outputId": "b3ca6fb9-9121-44cd-d2c0-059f5e5eab3a"
   },
   "outputs": [
    {
     "data": {
      "text/plain": [
       "-21.82"
      ]
     },
     "execution_count": 6,
     "metadata": {},
     "output_type": "execute_result"
    }
   ],
   "source": [
    "data[\"temperatura\"].min()"
   ]
  },
  {
   "cell_type": "code",
   "execution_count": 14,
   "id": "major-abortion",
   "metadata": {
    "colab": {
     "base_uri": "https://localhost:8080/"
    },
    "executionInfo": {
     "elapsed": 30,
     "status": "ok",
     "timestamp": 1646446640946,
     "user": {
      "displayName": "Valeria Bellino",
      "photoUrl": "https://lh3.googleusercontent.com/a/default-user=s64",
      "userId": "05918551666787590515"
     },
     "user_tz": 180
    },
    "id": "exciting-karen",
    "outputId": "2b1330ae-a8ef-4b7e-f654-8f10b710d5b8"
   },
   "outputs": [
    {
     "data": {
      "text/plain": [
       "38.84"
      ]
     },
     "execution_count": 14,
     "metadata": {},
     "output_type": "execute_result"
    }
   ],
   "source": [
    "data[\"temperatura\"].max()"
   ]
  },
  {
   "cell_type": "code",
   "execution_count": 15,
   "id": "handy-bracket",
   "metadata": {
    "colab": {
     "base_uri": "https://localhost:8080/"
    },
    "executionInfo": {
     "elapsed": 29,
     "status": "ok",
     "timestamp": 1646446640947,
     "user": {
      "displayName": "Valeria Bellino",
      "photoUrl": "https://lh3.googleusercontent.com/a/default-user=s64",
      "userId": "05918551666787590515"
     },
     "user_tz": 180
    },
    "id": "instant-sector",
    "outputId": "c7147b06-7b98-4075-99e4-3b54d7a289f2"
   },
   "outputs": [
    {
     "data": {
      "text/plain": [
       "11.85719"
      ]
     },
     "execution_count": 15,
     "metadata": {},
     "output_type": "execute_result"
    }
   ],
   "source": [
    "data[\"temperatura\"].mean()"
   ]
  },
  {
   "cell_type": "code",
   "execution_count": 8,
   "id": "inclusive-stanford",
   "metadata": {
    "colab": {
     "base_uri": "https://localhost:8080/"
    },
    "executionInfo": {
     "elapsed": 29,
     "status": "ok",
     "timestamp": 1646446640948,
     "user": {
      "displayName": "Valeria Bellino",
      "photoUrl": "https://lh3.googleusercontent.com/a/default-user=s64",
      "userId": "05918551666787590515"
     },
     "user_tz": 180
    },
    "id": "circular-wayne",
    "outputId": "f370b0cc-3421-4aa4-dc1e-b3f812dd3d9d"
   },
   "outputs": [
    {
     "data": {
      "text/plain": [
       "<seaborn.axisgrid.FacetGrid at 0x7fbb7390b940>"
      ]
     },
     "execution_count": 8,
     "metadata": {},
     "output_type": "execute_result"
    },
    {
     "data": {
      "image/png": "[encoded data removed]",
      "text/plain": [
       "<Figure size 360x360 with 1 Axes>"
      ]
     },
     "metadata": {
      "needs_background": "light"
     },
     "output_type": "display_data"
    }
   ],
   "source": [
    "sns.displot(data[\"temperatura\"])"
   ]
  },
  {
   "cell_type": "markdown",
   "id": "technological-passion",
   "metadata": {
    "id": "invisible-murder"
   },
   "source": [
    "Podemos observar que la temperatura va desde -21.82ºC hasta 38.84ºC siendo el promedio 11.85ºC. La forma de distribución es *normal* que es lo más habitual.\n"
   ]
  },
  {
   "cell_type": "markdown",
   "id": "emotional-editing",
   "metadata": {
    "id": "diverse-halifax"
   },
   "source": [
    "##### id\n",
    "\n",
    "Observaremos la columna \"id\" viendo los posibles registros que tiene con *value_counts()*. Podemos observar que el dato no se repite en ningún caso por lo que no tiene utilidad a la hora de realizar nuestro modelo. Debido a eso lo eliminaremos utilizando la función *drop*"
   ]
  },
  {
   "cell_type": "code",
   "execution_count": 24,
   "id": "secondary-pasta",
   "metadata": {
    "colab": {
     "base_uri": "https://localhost:8080/"
    },
    "executionInfo": {
     "elapsed": 15,
     "status": "ok",
     "timestamp": 1646446641355,
     "user": {
      "displayName": "Valeria Bellino",
      "photoUrl": "https://lh3.googleusercontent.com/a/default-user=s64",
      "userId": "05918551666787590515"
     },
     "user_tz": 180
    },
    "id": "governmental-coupon",
    "outputId": "005827ca-cfff-4781-8fb5-889a5550b3bb"
   },
   "outputs": [
    {
     "data": {
      "text/plain": [
       "2047    1\n",
       "9518    1\n",
       "7481    1\n",
       "5432    1\n",
       "9526    1\n",
       "       ..\n",
       "2716    1\n",
       "8857    1\n",
       "4759    1\n",
       "6806    1\n",
       "0       1\n",
       "Name: id, Length: 10000, dtype: int64"
      ]
     },
     "execution_count": 24,
     "metadata": {},
     "output_type": "execute_result"
    }
   ],
   "source": [
    "data[\"id\"].value_counts()"
   ]
  },
  {
   "cell_type": "code",
   "execution_count": 25,
   "id": "silent-spokesman",
   "metadata": {
    "colab": {
     "base_uri": "https://localhost:8080/"
    },
    "executionInfo": {
     "elapsed": 13,
     "status": "ok",
     "timestamp": 1646446641355,
     "user": {
      "displayName": "Valeria Bellino",
      "photoUrl": "https://lh3.googleusercontent.com/a/default-user=s64",
      "userId": "05918551666787590515"
     },
     "user_tz": 180
    },
    "id": "collected-penetration",
    "outputId": "69f35fd3-2395-4874-f408-6f6357667077"
   },
   "outputs": [
    {
     "data": {
      "text/plain": [
       "(10000, 9)"
      ]
     },
     "execution_count": 25,
     "metadata": {},
     "output_type": "execute_result"
    }
   ],
   "source": [
    "data.shape"
   ]
  },
  {
   "cell_type": "code",
   "execution_count": 26,
   "id": "opposed-algorithm",
   "metadata": {
    "id": "cellular-suicide"
   },
   "outputs": [],
   "source": [
    "data.drop(columns=\"id\", inplace=True)"
   ]
  },
  {
   "cell_type": "code",
   "execution_count": 27,
   "id": "superb-daughter",
   "metadata": {
    "colab": {
     "base_uri": "https://localhost:8080/"
    },
    "executionInfo": {
     "elapsed": 11,
     "status": "ok",
     "timestamp": 1646446641356,
     "user": {
      "displayName": "Valeria Bellino",
      "photoUrl": "https://lh3.googleusercontent.com/a/default-user=s64",
      "userId": "05918551666787590515"
     },
     "user_tz": 180
    },
    "id": "sharp-occasion",
    "outputId": "328c6a2d-866d-464a-802b-fa298491757f"
   },
   "outputs": [
    {
     "data": {
      "text/plain": [
       "(10000, 8)"
      ]
     },
     "execution_count": 27,
     "metadata": {},
     "output_type": "execute_result"
    }
   ],
   "source": [
    "data.shape"
   ]
  },
  {
   "cell_type": "markdown",
   "id": "touched-plate",
   "metadata": {
    "id": "systematic-supervisor"
   },
   "source": [
    "#### Variables categóricas\n",
    "\n",
    "##### Descripción\n",
    "\n",
    "Ahora analizaremos la variable \"Descripción\" que ya hemos visto que es un tipo de dato \"object\", vamos a ver que valores toma, cuánta cantidad de cada uno y realizaremos un gráfico [countplot](https://seaborn.pydata.org/generated/seaborn.countplot.html?highlight=countplot#seaborn.countplot) para observarlo."
   ]
  },
  {
   "cell_type": "code",
   "execution_count": 18,
   "id": "alleged-drama",
   "metadata": {
    "colab": {
     "base_uri": "https://localhost:8080/"
    },
    "executionInfo": {
     "elapsed": 27,
     "status": "ok",
     "timestamp": 1646446640948,
     "user": {
      "displayName": "Valeria Bellino",
      "photoUrl": "https://lh3.googleusercontent.com/a/default-user=s64",
      "userId": "05918551666787590515"
     },
     "user_tz": 180
    },
    "id": "theoretical-hamburg",
    "outputId": "b3fa730a-4b24-4b04-9d84-b0e977e692e4"
   },
   "outputs": [
    {
     "data": {
      "text/plain": [
       "array(['Cold', 'Warm', 'Normal', nan], dtype=object)"
      ]
     },
     "execution_count": 18,
     "metadata": {},
     "output_type": "execute_result"
    }
   ],
   "source": [
    "data[\"descripcion\"].unique()"
   ]
  },
  {
   "cell_type": "markdown",
   "id": "dated-export",
   "metadata": {
    "id": "moved-working"
   },
   "source": [
    "Se puede observar los 3 tipos de clima: \"Frio, \"Cálido\" y \"Normal\" y *nan*. Este último se refiere a que hay datos nulos como veremos en profundidad el encuentro que viene"
   ]
  },
  {
   "cell_type": "code",
   "execution_count": 19,
   "id": "prospective-affect",
   "metadata": {
    "colab": {
     "base_uri": "https://localhost:8080/"
    },
    "executionInfo": {
     "elapsed": 26,
     "status": "ok",
     "timestamp": 1646446640949,
     "user": {
      "displayName": "Valeria Bellino",
      "photoUrl": "https://lh3.googleusercontent.com/a/default-user=s64",
      "userId": "05918551666787590515"
     },
     "user_tz": 180
    },
    "id": "civilian-dependence",
    "outputId": "f12df500-bc4b-4dd2-8ee1-68abc30719c5"
   },
   "outputs": [
    {
     "data": {
      "text/plain": [
       "Normal    4989\n",
       "Warm      2506\n",
       "Cold      2497\n",
       "Name: descripcion, dtype: int64"
      ]
     },
     "execution_count": 19,
     "metadata": {},
     "output_type": "execute_result"
    }
   ],
   "source": [
    "data[\"descripcion\"].value_counts()"
   ]
  },
  {
   "cell_type": "code",
   "execution_count": 20,
   "id": "confidential-overall",
   "metadata": {
    "colab": {
     "base_uri": "https://localhost:8080/",
     "height": 354
    },
    "executionInfo": {
     "elapsed": 24,
     "status": "ok",
     "timestamp": 1646446640950,
     "user": {
      "displayName": "Valeria Bellino",
      "photoUrl": "https://lh3.googleusercontent.com/a/default-user=s64",
      "userId": "05918551666787590515"
     },
     "user_tz": 180
    },
    "id": "stainless-killer",
    "outputId": "d3231b2a-25d0-4fe1-83b2-da0dadb91105"
   },
   "outputs": [
    {
     "data": {
      "text/plain": [
       "<AxesSubplot:xlabel='descripcion', ylabel='count'>"
      ]
     },
     "execution_count": 20,
     "metadata": {},
     "output_type": "execute_result"
    },
    {
     "data": {
      "image/png": "[encoded data removed]",
      "text/plain": [
       "<Figure size 432x288 with 1 Axes>"
      ]
     },
     "metadata": {
      "needs_background": "light"
     },
     "output_type": "display_data"
    }
   ],
   "source": [
    "sns.countplot(data[\"descripcion\"])"
   ]
  },
  {
   "cell_type": "markdown",
   "id": "searching-rapid",
   "metadata": {
    "id": "subjective-parks"
   },
   "source": [
    "##### Lluvia\n",
    "\n",
    "Ahora analizaremos la variable \"Lluvia\" que el tipo de dato también es \"object\", vamos a realizar el mismo análisis que *descripcion*."
   ]
  },
  {
   "cell_type": "code",
   "execution_count": 21,
   "id": "usual-sister",
   "metadata": {
    "colab": {
     "base_uri": "https://localhost:8080/"
    },
    "executionInfo": {
     "elapsed": 20,
     "status": "ok",
     "timestamp": 1646446640951,
     "user": {
      "displayName": "Valeria Bellino",
      "photoUrl": "https://lh3.googleusercontent.com/a/default-user=s64",
      "userId": "05918551666787590515"
     },
     "user_tz": 180
    },
    "id": "dutch-interference",
    "outputId": "8fd2d13f-0ad9-40f1-ca35-565368b4cc24"
   },
   "outputs": [
    {
     "data": {
      "text/plain": [
       "array(['no', 'si', nan], dtype=object)"
      ]
     },
     "execution_count": 21,
     "metadata": {},
     "output_type": "execute_result"
    }
   ],
   "source": [
    "data[\"lluvia\"].unique()"
   ]
  },
  {
   "cell_type": "code",
   "execution_count": 22,
   "id": "broadband-information",
   "metadata": {
    "colab": {
     "base_uri": "https://localhost:8080/"
    },
    "executionInfo": {
     "elapsed": 19,
     "status": "ok",
     "timestamp": 1646446640952,
     "user": {
      "displayName": "Valeria Bellino",
      "photoUrl": "https://lh3.googleusercontent.com/a/default-user=s64",
      "userId": "05918551666787590515"
     },
     "user_tz": 180
    },
    "id": "naked-margin",
    "outputId": "9fa8a390-0f53-422d-d1b6-c08317806885"
   },
   "outputs": [
    {
     "data": {
      "text/plain": [
       "si    8911\n",
       "no    1088\n",
       "Name: lluvia, dtype: int64"
      ]
     },
     "execution_count": 22,
     "metadata": {},
     "output_type": "execute_result"
    }
   ],
   "source": [
    "data[\"lluvia\"].value_counts()"
   ]
  },
  {
   "cell_type": "code",
   "execution_count": 23,
   "id": "unlike-access",
   "metadata": {
    "colab": {
     "base_uri": "https://localhost:8080/",
     "height": 354
    },
    "executionInfo": {
     "elapsed": 419,
     "status": "ok",
     "timestamp": 1646446641354,
     "user": {
      "displayName": "Valeria Bellino",
      "photoUrl": "https://lh3.googleusercontent.com/a/default-user=s64",
      "userId": "05918551666787590515"
     },
     "user_tz": 180
    },
    "id": "plain-keeping",
    "outputId": "fd4281eb-b185-4a6f-8175-8d8afdf7e05d"
   },
   "outputs": [
    {
     "data": {
      "text/plain": [
       "<AxesSubplot:xlabel='lluvia', ylabel='count'>"
      ]
     },
     "execution_count": 23,
     "metadata": {},
     "output_type": "execute_result"
    },
    {
     "data": {
      "image/png": "[encoded data removed]",
      "text/plain": [
       "<Figure size 432x288 with 1 Axes>"
      ]
     },
     "metadata": {
      "needs_background": "light"
     },
     "output_type": "display_data"
    }
   ],
   "source": [
    "sns.countplot(data[\"lluvia\"])"
   ]
  },
  {
   "cell_type": "code",
   "execution_count": 28,
   "id": "hundred-boutique",
   "metadata": {
    "colab": {
     "base_uri": "https://localhost:8080/",
     "height": 143
    },
    "executionInfo": {
     "elapsed": 10,
     "status": "ok",
     "timestamp": 1646446641356,
     "user": {
      "displayName": "Valeria Bellino",
      "photoUrl": "https://lh3.googleusercontent.com/a/default-user=s64",
      "userId": "05918551666787590515"
     },
     "user_tz": 180
    },
    "id": "prime-wagon",
    "outputId": "fb68cc80-3a0e-4b16-defd-c97b6cc8a52e"
   },
   "outputs": [
    {
     "data": {
      "text/html": [
       "<div>\n",
       "<style scoped>\n",
       "    .dataframe tbody tr th:only-of-type {\n",
       "        vertical-align: middle;\n",
       "    }\n",
       "\n",
       "    .dataframe tbody tr th {\n",
       "        vertical-align: top;\n",
       "    }\n",
       "\n",
       "    .dataframe thead th {\n",
       "        text-align: right;\n",
       "    }\n",
       "</style>\n",
       "<table border=\"1\" class=\"dataframe\">\n",
       "  <thead>\n",
       "    <tr style=\"text-align: right;\">\n",
       "      <th></th>\n",
       "      <th>humedad</th>\n",
       "      <th>velocidad_viento_kmh</th>\n",
       "      <th>rumbo_viento_grados</th>\n",
       "      <th>visibilidad_km</th>\n",
       "      <th>presion_mbar</th>\n",
       "      <th>lluvia</th>\n",
       "      <th>descripcion</th>\n",
       "      <th>temperatura</th>\n",
       "    </tr>\n",
       "  </thead>\n",
       "  <tbody>\n",
       "    <tr>\n",
       "      <th>0</th>\n",
       "      <td>0.92</td>\n",
       "      <td>11.27</td>\n",
       "      <td>130.0</td>\n",
       "      <td>8.05</td>\n",
       "      <td>1021.60</td>\n",
       "      <td>no</td>\n",
       "      <td>Cold</td>\n",
       "      <td>-0.56</td>\n",
       "    </tr>\n",
       "    <tr>\n",
       "      <th>1</th>\n",
       "      <td>0.73</td>\n",
       "      <td>20.93</td>\n",
       "      <td>330.0</td>\n",
       "      <td>16.10</td>\n",
       "      <td>1017.00</td>\n",
       "      <td>si</td>\n",
       "      <td>Warm</td>\n",
       "      <td>21.11</td>\n",
       "    </tr>\n",
       "    <tr>\n",
       "      <th>2</th>\n",
       "      <td>0.97</td>\n",
       "      <td>5.97</td>\n",
       "      <td>193.0</td>\n",
       "      <td>14.91</td>\n",
       "      <td>1013.99</td>\n",
       "      <td>si</td>\n",
       "      <td>Normal</td>\n",
       "      <td>16.60</td>\n",
       "    </tr>\n",
       "  </tbody>\n",
       "</table>\n",
       "</div>"
      ],
      "text/plain": [
       "   humedad  velocidad_viento_kmh  rumbo_viento_grados  visibilidad_km  \\\n",
       "0     0.92                 11.27                130.0            8.05   \n",
       "1     0.73                 20.93                330.0           16.10   \n",
       "2     0.97                  5.97                193.0           14.91   \n",
       "\n",
       "   presion_mbar lluvia descripcion  temperatura  \n",
       "0       1021.60     no        Cold        -0.56  \n",
       "1       1017.00     si        Warm        21.11  \n",
       "2       1013.99     si      Normal        16.60  "
      ]
     },
     "execution_count": 28,
     "metadata": {},
     "output_type": "execute_result"
    }
   ],
   "source": [
    "data.head(3)"
   ]
  },
  {
   "cell_type": "markdown",
   "id": "cloudy-technique",
   "metadata": {
    "id": "ancient-medicaid"
   },
   "source": [
    "Dado que hemos realizado cambios en el Dataset y el encuentro que viene retomaremos este mismo, vamos a utilizar el método *to_csv* que es el opuesto a *read_csv* y sirve para exportar un CSV de una Notebook.\n",
    "\n",
    "Se puede descargar en la computadora o guardarlo en el Drive:"
   ]
  },
  {
   "cell_type": "code",
   "execution_count": null,
   "id": "complimentary-cathedral",
   "metadata": {
    "id": "graduate-timber"
   },
   "outputs": [],
   "source": [
    "data.to_csv(\"/content/drive/MyDrive/Aprender Programando/2022/Guías y Recursos - Trayectos 2021/Recursos/Modulos 1 y 2. Presentación CABA/Ciencia de datos/2022/Módulo 2/Encuentro 2/data_clima.csv\", index=False)\n",
    "\n"
   ]
  },
  {
   "cell_type": "code",
   "execution_count": null,
   "id": "bulgarian-associate",
   "metadata": {
    "colab": {
     "base_uri": "https://localhost:8080/",
     "height": 16
    },
    "executionInfo": {
     "elapsed": 10,
     "status": "ok",
     "timestamp": 1646446641357,
     "user": {
      "displayName": "Valeria Bellino",
      "photoUrl": "https://lh3.googleusercontent.com/a/default-user=s64",
      "userId": "05918551666787590515"
     },
     "user_tz": 180
    },
    "id": "NTa1INzG34kN",
    "outputId": "abcf6221-5919-4271-8319-4e151f64fbe9"
   },
   "outputs": [
    {
     "data": {
      "application/javascript": [
       "\n",
       "    async function download(id, filename, size) {\n",
       "      if (!google.colab.kernel.accessAllowed) {\n",
       "        return;\n",
       "      }\n",
       "      const div = document.createElement('div');\n",
       "      const label = document.createElement('label');\n",
       "      label.textContent = `Downloading \"${filename}\": `;\n",
       "      div.appendChild(label);\n",
       "      const progress = document.createElement('progress');\n",
       "      progress.max = size;\n",
       "      div.appendChild(progress);\n",
       "      document.body.appendChild(div);\n",
       "\n",
       "      const buffers = [];\n",
       "      let downloaded = 0;\n",
       "\n",
       "      const channel = await google.colab.kernel.comms.open(id);\n",
       "      // Send a message to notify the kernel that we're ready.\n",
       "      channel.send({})\n",
       "\n",
       "      for await (const message of channel.messages) {\n",
       "        // Send a message to notify the kernel that we're ready.\n",
       "        channel.send({})\n",
       "        if (message.buffers) {\n",
       "          for (const buffer of message.buffers) {\n",
       "            buffers.push(buffer);\n",
       "            downloaded += buffer.byteLength;\n",
       "            progress.value = downloaded;\n",
       "          }\n",
       "        }\n",
       "      }\n",
       "      const blob = new Blob(buffers, {type: 'application/binary'});\n",
       "      const a = document.createElement('a');\n",
       "      a.href = window.URL.createObjectURL(blob);\n",
       "      a.download = filename;\n",
       "      div.appendChild(a);\n",
       "      a.click();\n",
       "      div.remove();\n",
       "    }\n",
       "  "
      ],
      "text/plain": [
       "<IPython.core.display.Javascript object>"
      ]
     },
     "metadata": {},
     "output_type": "display_data"
    },
    {
     "data": {
      "application/javascript": [
       "download(\"download_ff82cbc3-78ec-4f46-8830-f76a6cfcd598\", \"data_clima2.csv\", 437232)"
      ],
      "text/plain": [
       "<IPython.core.display.Javascript object>"
      ]
     },
     "metadata": {},
     "output_type": "display_data"
    }
   ],
   "source": [
    "# Descargar en computadora\n",
    "\n",
    "from google.colab import files\n",
    "\n",
    "data.to_csv(\"data_clima2.csv\", index=False)\n",
    "files.download(\"data_clima2.csv\")"
   ]
  }
 ],
 "metadata": {
  "colab": {
   "name": "EDA - Análisis Exploratorio de Datos.ipynb",
   "provenance": []
  },
  "kernelspec": {
   "display_name": "Python 3 (ipykernel)",
   "language": "python",
   "name": "python3"
  },
  "language_info": {
   "codemirror_mode": {
    "name": "ipython",
    "version": 3
   },
   "file_extension": ".py",
   "mimetype": "text/x-python",
   "name": "python",
   "nbconvert_exporter": "python",
   "pygments_lexer": "ipython3",
   "version": "3.10.4"
  }
 },
 "nbformat": 4,
 "nbformat_minor": 5
}
