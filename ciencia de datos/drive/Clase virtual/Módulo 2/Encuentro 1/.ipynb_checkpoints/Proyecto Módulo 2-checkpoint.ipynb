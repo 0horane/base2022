{
 "cells": [
  {
   "cell_type": "markdown",
   "id": "simplified-negative",
   "metadata": {
    "id": "equal-officer"
   },
   "source": [
    "# Proyecto\n",
    "\n",
    "En este modulo vamos a hacer un proyecto entero de aprendizaje supervisado, pasando por todos los pasos del mismo, los cuales son:\n",
    "\n",
    "* Definición del problema.\n",
    "* Búsqueda de datos. \n",
    "* Análisis exploratorio y limpieza.\n",
    "* Separación de entrenamiento y validación.\n",
    "* Entrenamiento.\n",
    "* Prueba.\n",
    "* Presentación de resultados. \n",
    "\n",
    "## Definición del problema\n",
    "\n",
    "Todo proyecto de aprendizaje automático parte de una pregunta que se quiere responder, en este caso la pregunta es:\n",
    "\n",
    "**¿Cuál será la fuerza de combate máxima en el nivel 40 un Pokemon dadas determinadas caracerísticas?**\n",
    "\n",
    "## Búsqueda de datos\n",
    "\n",
    "El dataset que se utilizará es de Pokemon, donde describe las características de cada Pokemon (resistencia, ataque, defensa, salud, peso, altura, etc.) de acuerdo a las mismas se puede predecir la fuerza de combate máxima en el nivel 40 que va a alcanzar.\n",
    "\n",
    "Esta basado en el dataset descargable en [Kaggle](https://www.kaggle.com/datasets/netzuel/pokmon-go-dataset-15-generations) pero tiene realizadas algunas modificaciones por lo que debe ser tomado desde el archivo csv descargado desde la plataforma. \n"
   ]
  },
  {
   "cell_type": "markdown",
   "id": "ultimate-consideration",
   "metadata": {
    "id": "mv6B6lCtkjsW"
   },
   "source": [
    "## Hipótesis\n",
    "\n",
    "En primer lugar es necesario elaborar una **hipótesis** de qué variables consideran que pueden ser relevantes para predecir la fuerza de combate máxima que va a alcanzar un Pokemon en el nivel 40.\n",
    "\n"
   ]
  },
  {
   "cell_type": "markdown",
   "id": "legitimate-divorce",
   "metadata": {
    "id": "318vQ9fVipcw"
   },
   "source": [
    "\n",
    "\n",
    "## Exploración del dataset\n",
    "\n",
    "Realizaremos la primer exploración y limpieza del dataset. \n",
    "La variable a predecir es *fuerza_combate*.  \n",
    "\n",
    "\n",
    "Debemos: \n",
    "- Ver los primeros tres registros\n",
    "\n",
    "- Ver el tamaño del dataset\n",
    "\n",
    "- Ver los tipos de datos de cada columna\n",
    "\n",
    "- Ver las columnas que toma y escribir una pequeña descripción de cada una:\n",
    "\n",
    "    - nombre:\n",
    "\n",
    "    - indice_guia:\n",
    "    \n",
    "    - resistencia:\n",
    "    \n",
    "    - ataque:\n",
    "    \n",
    "    - defensa:\n",
    "    \n",
    "    - tipo_primario:\n",
    "    \n",
    "    - tipo_secundario:\n",
    "    \n",
    "    - max_salud:\n",
    "    \n",
    "    - tasa_captura:\n",
    "    \n",
    "    - tasa_escape:\n",
    "    \n",
    "    - Weight:\n",
    "    \n",
    "    - Height:\n",
    "    \n",
    "    - legendario\n",
    "    \n",
    "    - generacion:\n",
    "    \n",
    "    - fuerza_combate:\n",
    "\n",
    "- Renombrar las columnas *Weight* (peso) y *Height* (altura) para que esten en español\n",
    "\n",
    "- Usar el métdoo *describe()* para ver las variables numéricas\n",
    "\n",
    "- Usar el método *corr()* para ver la correlación entre las variables\n",
    "\n",
    "- De la variable a predecir **fuerza_combate** ver los valores máximo, mínimo y promedio y hacer un gráfico *displot* para ver la distribución\n",
    "\n",
    "- De la variable **resistencia** ver los valores máximo, mínimo y promedio y hacer un gráfico *displot* para ver la distribución\n",
    "\n",
    "- De la variable **tipo_primario** ver los valores que toma y cuántos registros de cada uno y hacer un gráfico *countplot* para visualizarlo\n",
    "\n",
    "- De la variable **legendario** ver los valores que toma y cuántos registros de cada uno y hacer un gráfico *countplot* para visualizarlo\n",
    "\n",
    "- Luego de realizar la exploración, pensar que variables no serían necesarias en un modelo y eliminarlas\n",
    "   "
   ]
  },
  {
   "cell_type": "code",
   "execution_count": 3,
   "id": "acting-anderson",
   "metadata": {
    "id": "altered-exemption"
   },
   "outputs": [],
   "source": [
    "#importamos las librerias que utilizaremos\n",
    "\n",
    "import pandas as pd\n",
    "import matplotlib.pyplot as plt  \n",
    "import seaborn as sns"
   ]
  },
  {
   "cell_type": "code",
   "execution_count": null,
   "id": "technological-pakistan",
   "metadata": {},
   "outputs": [],
   "source": [
    "# Desde Drive\n",
    "\n",
    "#from google.colab import drive\n",
    "#drive.mount('/content/drive')"
   ]
  },
  {
   "cell_type": "code",
   "execution_count": 4,
   "id": "functional-cause",
   "metadata": {
    "id": "advisory-blackjack"
   },
   "outputs": [],
   "source": [
    "data = pd.read_csv(\"~/code/escuela2022/ciencia de datos/drive/Clase virtual/Módulo 2/Encuentro 1/pokemon.csv\")"
   ]
  },
  {
   "cell_type": "code",
   "execution_count": null,
   "id": "generous-exchange",
   "metadata": {},
   "outputs": [],
   "source": [
    "# Desde archivo en compu\n",
    "\n",
    "#from google.colab import files\n",
    "#import io"
   ]
  },
  {
   "cell_type": "code",
   "execution_count": null,
   "id": "considerable-nickname",
   "metadata": {},
   "outputs": [],
   "source": [
    "#filesUploaded = files.upload()"
   ]
  },
  {
   "cell_type": "code",
   "execution_count": null,
   "id": "acting-slovenia",
   "metadata": {},
   "outputs": [],
   "source": [
    "#data = pd.read_csv(io.BytesIO(filesUploaded[\"pokemon.csv\"]))"
   ]
  },
  {
   "cell_type": "markdown",
   "id": "afraid-marketplace",
   "metadata": {
    "id": "GrnQUEpLoyEh"
   },
   "source": [
    "### Limpieza de datos - nulos\n",
    "\n",
    "- Revisar si el dataset tiene datos nulos y cuántos por columnas\n",
    "\n",
    "- En cada caso definir si se debe **imputar**, **eliminar** o **marcar** los datos nulos de acuerdo a los criterios vistos en clase. Se pueden reemplazar valores con datos específicos o con una lista creada de manera aleatoria, usar métodos de pandas como *fillna* o *dropna*"
   ]
  },
  {
   "cell_type": "code",
   "execution_count": 9,
   "id": "06de57a1-1198-42b9-bd76-08972131178e",
   "metadata": {},
   "outputs": [
    {
     "data": {
      "text/plain": [
       "nombre             0\n",
       "indice_guia        0\n",
       "resistencia        5\n",
       "ataque             5\n",
       "defensa            5\n",
       "tipo_primario      5\n",
       "tipo_secundario    5\n",
       "max_salud          5\n",
       "tasa_captura       5\n",
       "tasa_escape        5\n",
       "Weight             0\n",
       "Height             4\n",
       "Legendario         1\n",
       "generacion         0\n",
       "fuerza_combate     0\n",
       "dtype: int64"
      ]
     },
     "execution_count": 9,
     "metadata": {},
     "output_type": "execute_result"
    }
   ],
   "source": [
    "data.isna().sum()"
   ]
  },
  {
   "cell_type": "code",
   "execution_count": 14,
   "id": "c722cc07-64ec-4329-9538-4320104497ed",
   "metadata": {},
   "outputs": [
    {
     "data": {
      "text/html": [
       "<div>\n",
       "<style scoped>\n",
       "    .dataframe tbody tr th:only-of-type {\n",
       "        vertical-align: middle;\n",
       "    }\n",
       "\n",
       "    .dataframe tbody tr th {\n",
       "        vertical-align: top;\n",
       "    }\n",
       "\n",
       "    .dataframe thead th {\n",
       "        text-align: right;\n",
       "    }\n",
       "</style>\n",
       "<table border=\"1\" class=\"dataframe\">\n",
       "  <thead>\n",
       "    <tr style=\"text-align: right;\">\n",
       "      <th></th>\n",
       "      <th>nombre</th>\n",
       "      <th>indice_guia</th>\n",
       "      <th>resistencia</th>\n",
       "      <th>ataque</th>\n",
       "      <th>defensa</th>\n",
       "      <th>tipo_primario</th>\n",
       "      <th>tipo_secundario</th>\n",
       "      <th>max_salud</th>\n",
       "      <th>tasa_captura</th>\n",
       "      <th>tasa_escape</th>\n",
       "      <th>Weight</th>\n",
       "      <th>Height</th>\n",
       "      <th>Legendario</th>\n",
       "      <th>generacion</th>\n",
       "      <th>fuerza_combate</th>\n",
       "    </tr>\n",
       "  </thead>\n",
       "  <tbody>\n",
       "    <tr>\n",
       "      <th>175</th>\n",
       "      <td>Togetic</td>\n",
       "      <td>176</td>\n",
       "      <td>NaN</td>\n",
       "      <td>NaN</td>\n",
       "      <td>NaN</td>\n",
       "      <td>NaN</td>\n",
       "      <td>NaN</td>\n",
       "      <td>NaN</td>\n",
       "      <td>NaN</td>\n",
       "      <td>NaN</td>\n",
       "      <td>3.2</td>\n",
       "      <td>0.61</td>\n",
       "      <td>No</td>\n",
       "      <td>2</td>\n",
       "      <td>1708</td>\n",
       "    </tr>\n",
       "    <tr>\n",
       "      <th>248</th>\n",
       "      <td>Lugia</td>\n",
       "      <td>249</td>\n",
       "      <td>NaN</td>\n",
       "      <td>NaN</td>\n",
       "      <td>NaN</td>\n",
       "      <td>NaN</td>\n",
       "      <td>NaN</td>\n",
       "      <td>NaN</td>\n",
       "      <td>NaN</td>\n",
       "      <td>NaN</td>\n",
       "      <td>216.0</td>\n",
       "      <td>5.21</td>\n",
       "      <td>Sí</td>\n",
       "      <td>2</td>\n",
       "      <td>3703</td>\n",
       "    </tr>\n",
       "    <tr>\n",
       "      <th>345</th>\n",
       "      <td>Cradily</td>\n",
       "      <td>346</td>\n",
       "      <td>NaN</td>\n",
       "      <td>NaN</td>\n",
       "      <td>NaN</td>\n",
       "      <td>NaN</td>\n",
       "      <td>NaN</td>\n",
       "      <td>NaN</td>\n",
       "      <td>NaN</td>\n",
       "      <td>NaN</td>\n",
       "      <td>60.4</td>\n",
       "      <td>1.50</td>\n",
       "      <td>No</td>\n",
       "      <td>3</td>\n",
       "      <td>2211</td>\n",
       "    </tr>\n",
       "    <tr>\n",
       "      <th>568</th>\n",
       "      <td>Garbodor</td>\n",
       "      <td>569</td>\n",
       "      <td>NaN</td>\n",
       "      <td>NaN</td>\n",
       "      <td>NaN</td>\n",
       "      <td>NaN</td>\n",
       "      <td>NaN</td>\n",
       "      <td>NaN</td>\n",
       "      <td>NaN</td>\n",
       "      <td>NaN</td>\n",
       "      <td>107.3</td>\n",
       "      <td>1.90</td>\n",
       "      <td>No</td>\n",
       "      <td>5</td>\n",
       "      <td>2345</td>\n",
       "    </tr>\n",
       "    <tr>\n",
       "      <th>580</th>\n",
       "      <td>Swanna</td>\n",
       "      <td>581</td>\n",
       "      <td>NaN</td>\n",
       "      <td>NaN</td>\n",
       "      <td>NaN</td>\n",
       "      <td>NaN</td>\n",
       "      <td>NaN</td>\n",
       "      <td>NaN</td>\n",
       "      <td>NaN</td>\n",
       "      <td>NaN</td>\n",
       "      <td>24.2</td>\n",
       "      <td>1.30</td>\n",
       "      <td>No</td>\n",
       "      <td>5</td>\n",
       "      <td>2088</td>\n",
       "    </tr>\n",
       "  </tbody>\n",
       "</table>\n",
       "</div>"
      ],
      "text/plain": [
       "       nombre  indice_guia  resistencia  ataque  defensa tipo_primario  \\\n",
       "175   Togetic          176          NaN     NaN      NaN           NaN   \n",
       "248     Lugia          249          NaN     NaN      NaN           NaN   \n",
       "345   Cradily          346          NaN     NaN      NaN           NaN   \n",
       "568  Garbodor          569          NaN     NaN      NaN           NaN   \n",
       "580    Swanna          581          NaN     NaN      NaN           NaN   \n",
       "\n",
       "    tipo_secundario  max_salud  tasa_captura  tasa_escape  Weight  Height  \\\n",
       "175             NaN        NaN           NaN          NaN     3.2    0.61   \n",
       "248             NaN        NaN           NaN          NaN   216.0    5.21   \n",
       "345             NaN        NaN           NaN          NaN    60.4    1.50   \n",
       "568             NaN        NaN           NaN          NaN   107.3    1.90   \n",
       "580             NaN        NaN           NaN          NaN    24.2    1.30   \n",
       "\n",
       "    Legendario  generacion  fuerza_combate  \n",
       "175         No           2            1708  \n",
       "248         Sí           2            3703  \n",
       "345         No           3            2211  \n",
       "568         No           5            2345  \n",
       "580         No           5            2088  "
      ]
     },
     "execution_count": 14,
     "metadata": {},
     "output_type": "execute_result"
    }
   ],
   "source": [
    "data.loc[data[\"tipo_primario\"].isnull()]"
   ]
  },
  {
   "cell_type": "markdown",
   "id": "boring-viking",
   "metadata": {
    "id": "RFFxUWo0pu1n"
   },
   "source": [
    "### Variables categóricas y numéricas\n",
    "\n",
    "- Revisar los tipos de datos que tiene cada columna del dataset\n",
    "- En el caso que haya variables categóricas convertirlas en numéricas: en el caso que sean variables categróricas nominales deben ser convertidas en variables dummies, para esto pueden reemplazarse valores con *apply* y *lambda*, creando una función propia o utilizando el método de pandas *get_dummies*."
   ]
  },
  {
   "cell_type": "markdown",
   "id": "correct-subscriber",
   "metadata": {
    "id": "5rC_FKtlhLOp"
   },
   "source": [
    "### División de datos de entrenamiento y testeo\n",
    "\n",
    "Completar los espacios _______ con el código que corresponda"
   ]
  },
  {
   "cell_type": "code",
   "execution_count": 28,
   "id": "everyday-swift",
   "metadata": {
    "id": "XYqF03pmhTWc"
   },
   "outputs": [],
   "source": [
    "# Definir X e y siendo X las variables predictoras e y la variable a predecir\n",
    "\n",
    "X= data.drop(columns=\"fuerza_combate\")\n",
    "y=data[\"fuerza_combate\"]"
   ]
  },
  {
   "cell_type": "code",
   "execution_count": 29,
   "id": "multiple-merit",
   "metadata": {
    "id": "skLvFQRJhTZK"
   },
   "outputs": [],
   "source": [
    "# importamos train_test_split de la libreria scikit-learn\n",
    "\n",
    "from sklearn.model_selection import train_test_split "
   ]
  },
  {
   "cell_type": "code",
   "execution_count": 42,
   "id": "sunset-running",
   "metadata": {
    "id": "-5dCQg4-hTcw"
   },
   "outputs": [],
   "source": [
    "# Definimos X de entrenamiento y de testeo e y de entrenamiento y testeo\n",
    "\n",
    "X_train, X_test, y_train, y_test = _______________(X, y)\n"
   ]
  },
  {
   "cell_type": "code",
   "execution_count": 43,
   "id": "forced-consumer",
   "metadata": {
    "id": "JKRvlAlyht6m"
   },
   "outputs": [
    {
     "name": "stdout",
     "output_type": "stream",
     "text": [
      "(479, 47)\n",
      "(479,)\n",
      "(160, 47)\n",
      "(160,)\n"
     ]
    }
   ],
   "source": [
    "# Revisamos que esté correctamente realizada la operación\n",
    "\n",
    "print(X_train.shape)\n",
    "print(y_train.shape)\n",
    "print(X_test.shape)\n",
    "print(y_test.shape)"
   ]
  },
  {
   "cell_type": "markdown",
   "id": "regulation-train",
   "metadata": {
    "id": "EG0myRVfh0Pn"
   },
   "source": [
    "### Entrenamiento del modelo\n",
    "\n",
    "\n",
    "Completar los espacios _______ con el código que corresponda"
   ]
  },
  {
   "cell_type": "code",
   "execution_count": 33,
   "id": "durable-skill",
   "metadata": {
    "id": "jEwul2-hhx5i"
   },
   "outputs": [],
   "source": [
    "# Importamos el modelo que utilizaremos. Regresión lineal\n",
    "\n",
    "from sklearn.linear_model import LinearRegression"
   ]
  },
  {
   "cell_type": "code",
   "execution_count": 34,
   "id": "green-effectiveness",
   "metadata": {
    "id": "2msLxUbjh6Ue"
   },
   "outputs": [],
   "source": [
    "# Definimos un objeto con el modelo importado, en este caso los hiperparametros son por default por lo que el parentesis está vacio\n",
    "\n",
    "modelo_rl = ____________________()\n"
   ]
  },
  {
   "cell_type": "code",
   "execution_count": 45,
   "id": "ranking-slide",
   "metadata": {
    "id": "0SzPV4tqh86A"
   },
   "outputs": [
    {
     "data": {
      "text/plain": [
       "LinearRegression()"
      ]
     },
     "execution_count": 45,
     "metadata": {},
     "output_type": "execute_result"
    }
   ],
   "source": [
    "# Realizamos el entrenamiento del modelo con el método fit y los datos de entrenamiento \n",
    "\n",
    "modelo_rl.___(X_train, y_train)"
   ]
  },
  {
   "cell_type": "code",
   "execution_count": 46,
   "id": "invalid-blink",
   "metadata": {
    "id": "xzWoWJdRiAJX"
   },
   "outputs": [
    {
     "data": {
      "text/plain": [
       "array([  29.4128483 ,   10.86161127,    5.09140124,  -32.53677262,\n",
       "         44.25712914, -136.84858676,    0.50562445,  -14.53321172,\n",
       "          5.88546977,    7.6953215 ,  -44.11589892,   60.77365138,\n",
       "         10.2643374 ,   88.44932288,  -16.10021021,    7.21631659,\n",
       "        -58.99070502,  -88.3602163 ,   18.54839287,   36.26336386,\n",
       "         14.75532015,   23.00121443,   41.44558405,  -31.61253452,\n",
       "        -29.72202259,  -74.30789477,   34.79665723,  -29.42664049,\n",
       "        -41.14935796,   54.57296762,  -11.75736361,   16.20710906,\n",
       "         18.32820199,   55.69760822,    7.71058701,  -99.11597832,\n",
       "         28.3403287 ,   30.91055005,  -43.6460122 ,   -5.21275196,\n",
       "          5.95880916,   36.93124342,  -56.04700617,  -19.98577462,\n",
       "         51.68348011,  -88.08022296,   88.08022296])"
      ]
     },
     "execution_count": 46,
     "metadata": {},
     "output_type": "execute_result"
    }
   ],
   "source": [
    "# Observamos los parámetros del modelo entrenado\n",
    "# Coeficiente (la pendiente de la recta)\n",
    "\n",
    "modelo_rl.coef_\n"
   ]
  },
  {
   "cell_type": "code",
   "execution_count": 47,
   "id": "personalized-millennium",
   "metadata": {
    "id": "I_z-2KCCiAQX"
   },
   "outputs": [
    {
     "data": {
      "text/plain": [
       "-765.7855557462201"
      ]
     },
     "execution_count": 47,
     "metadata": {},
     "output_type": "execute_result"
    }
   ],
   "source": [
    "# Intercepto (el punto de comienzo de la recta en el eje y)\n",
    "\n",
    "modelo_rl.intercept_"
   ]
  },
  {
   "cell_type": "markdown",
   "id": "analyzed-december",
   "metadata": {
    "id": "HuNAtRzQiJZ9"
   },
   "source": [
    "### Testeo del modelo\n",
    "\n",
    "\n",
    "Completar los espacios _______ con el código que corresponda"
   ]
  },
  {
   "cell_type": "code",
   "execution_count": 48,
   "id": "signal-supervisor",
   "metadata": {
    "id": "j86tK68diMfD"
   },
   "outputs": [],
   "source": [
    "# Probar nuestro modelo con predict y los datos de test\n",
    "\n",
    "y_pred = modelo_rl.______(X_test)"
   ]
  },
  {
   "cell_type": "code",
   "execution_count": 49,
   "id": "signed-smoke",
   "metadata": {
    "id": "7u60OzJNiQTQ"
   },
   "outputs": [],
   "source": [
    "# Importar la métrica que se utiliza para medir la performance modelo de regresión lineal: R2\n",
    "\n",
    "from sklearn.metrics import r2_score\n"
   ]
  },
  {
   "cell_type": "code",
   "execution_count": 50,
   "id": "conventional-wedding",
   "metadata": {
    "id": "ei0EFWgOiWfk"
   },
   "outputs": [
    {
     "data": {
      "text/plain": [
       "0.9828730398255338"
      ]
     },
     "execution_count": 50,
     "metadata": {},
     "output_type": "execute_result"
    }
   ],
   "source": [
    "# Utilizar R2 para medir la performance del modelo\n",
    "\n",
    "r2_score(y_test,y_pred)\n"
   ]
  }
 ],
 "metadata": {
  "colab": {
   "name": "Proyecto Módulo 2.ipynb",
   "provenance": []
  },
  "kernelspec": {
   "display_name": "Python 3 (ipykernel)",
   "language": "python",
   "name": "python3"
  },
  "language_info": {
   "codemirror_mode": {
    "name": "ipython",
    "version": 3
   },
   "file_extension": ".py",
   "mimetype": "text/x-python",
   "name": "python",
   "nbconvert_exporter": "python",
   "pygments_lexer": "ipython3",
   "version": "3.10.4"
  }
 },
 "nbformat": 4,
 "nbformat_minor": 5
}
