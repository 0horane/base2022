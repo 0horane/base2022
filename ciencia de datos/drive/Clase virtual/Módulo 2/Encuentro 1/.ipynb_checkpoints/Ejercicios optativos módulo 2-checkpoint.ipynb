{
 "cells": [
  {
   "cell_type": "markdown",
   "id": "equal-officer",
   "metadata": {
    "id": "equal-officer"
   },
   "source": [
    "# Ejercicios optativos\n",
    "\n",
    "En caso que deseen practicar más el código, aquí tienen otro Dataset con ejercicios para realizar siguendo los pasos para hacer un proyecto entero de aprendizaje automático supervisado de regresión.\n",
    "\n",
    "### Definición del problema\n",
    "\n",
    "**¿Cuál será la edad de una zarigüeya en base a determinadas características?**\n",
    "\n",
    "### Búsqueda de datos\n",
    "\n",
    "El dataset que se utilizará es sobre zarigüeyas, consta de nueve medidas morfométricas en 104 zarigüeyas, atrapadas en siete sitios desde el sur de Victoria hasta el centro de Queensland (Australia). En base a estas características es posible predecir la edad.\n",
    "Esta basado en el dataset descargable en [Kaggle](https://www.kaggle.com/abrambeyer/openintro-possum) pero tiene realizadas algunas modificaciones por lo que debe ser tomado desde el archivo csv descargado desde la plataforma. \n"
   ]
  },
  {
   "cell_type": "markdown",
   "id": "mv6B6lCtkjsW",
   "metadata": {
    "id": "mv6B6lCtkjsW"
   },
   "source": [
    "### Hipótesis\n",
    "\n",
    "En primer lugar es necesario elaborar una **hipótesis** de qué variables consideran que pueden ser relevantes para predecir la edad de las zarigüeyas\n",
    "\n"
   ]
  },
  {
   "cell_type": "markdown",
   "id": "cd202810-a8d9-4801-a796-1daba68cf748",
   "metadata": {},
   "source": [
    "#### Hipotesis\n",
    "Todas menos sexo, poblacion y sisto, ya que las zariguellas crecen con su edad"
   ]
  },
  {
   "cell_type": "markdown",
   "id": "318vQ9fVipcw",
   "metadata": {
    "id": "318vQ9fVipcw"
   },
   "source": [
    "\n",
    "\n",
    "## Exploración del dataset\n",
    "\n",
    "Realizaremos la primer exploración y limpieza del dataset. \n",
    "La variable a predecir es *costo*.  \n",
    "\n",
    "\n",
    "Debemos: \n",
    "- Ver los primeros tres registros\n",
    "\n",
    "- Ver el tamaño del dataset\n",
    "\n",
    "- Ver los tipos de datos de cada columna\n",
    "\n",
    "- Ver las columnas que toma y escribir una pequeña descripción de cada una.\n",
    "\n",
    "- Renombrar las columnas *taill*(cola) y *eye*(ojo) para que esten en español\n",
    "\n",
    "- Usar el métdoo *describe()* para ver las variables numéricas\n",
    "\n",
    "- Usar el método *corr()* para ver la correlación entre las variables\n",
    "\n",
    "- De la variable a predecir **edad** ver los valores máximo, mínimo y \n",
    "promedio y hacer un gráfico *displot* para ver la distribución\n",
    "\n",
    "- De las variables **cabeza** y **craneo** ver los valores máximo, mínimo y promedio y hacer un gráfico *displot* para ver la distribución\n",
    "\n",
    "- De las variables **sexo** y **sitio** ver los valores que toma y cuántos registros de cada uno y hacer un gráfico *countplot* para visualizarlo\n",
    "\n",
    "- Luego de realizar la exploración, pensar que variables no serían necesarias en un modelo y eliminarlas\n",
    "   "
   ]
  },
  {
   "cell_type": "code",
   "execution_count": 17,
   "id": "altered-exemption",
   "metadata": {
    "id": "altered-exemption"
   },
   "outputs": [],
   "source": [
    "#importamos las librerias que utilizaremos\n",
    "\n",
    "import pandas as pd\n",
    "import matplotlib.pyplot as plt  \n",
    "import seaborn as sns\n",
    "import numpy as np"
   ]
  },
  {
   "cell_type": "code",
   "execution_count": 2,
   "id": "nutritional-torture",
   "metadata": {
    "colab": {
     "base_uri": "https://localhost:8080/"
    },
    "executionInfo": {
     "elapsed": 213787,
     "status": "ok",
     "timestamp": 1646526146675,
     "user": {
      "displayName": "Valeria Bellino",
      "photoUrl": "https://lh3.googleusercontent.com/a/default-user=s64",
      "userId": "05918551666787590515"
     },
     "user_tz": 180
    },
    "id": "nutritional-torture",
    "outputId": "12a6ce29-e5f9-453a-889c-cf5c2dd80105"
   },
   "outputs": [
    {
     "ename": "ModuleNotFoundError",
     "evalue": "No module named 'google'",
     "output_type": "error",
     "traceback": [
      "\u001b[0;31m---------------------------------------------------------------------------\u001b[0m",
      "\u001b[0;31mModuleNotFoundError\u001b[0m                       Traceback (most recent call last)",
      "Input \u001b[0;32mIn [2]\u001b[0m, in \u001b[0;36m<cell line: 1>\u001b[0;34m()\u001b[0m\n\u001b[0;32m----> 1\u001b[0m \u001b[38;5;28;01mfrom\u001b[39;00m \u001b[38;5;21;01mgoogle\u001b[39;00m\u001b[38;5;21;01m.\u001b[39;00m\u001b[38;5;21;01mcolab\u001b[39;00m \u001b[38;5;28;01mimport\u001b[39;00m drive\n\u001b[1;32m      2\u001b[0m drive\u001b[38;5;241m.\u001b[39mmount(\u001b[38;5;124m'\u001b[39m\u001b[38;5;124m/content/drive\u001b[39m\u001b[38;5;124m'\u001b[39m)\n",
      "\u001b[0;31mModuleNotFoundError\u001b[0m: No module named 'google'"
     ]
    }
   ],
   "source": [
    "from google.colab import drive\n",
    "drive.mount('/content/drive')\n"
   ]
  },
  {
   "cell_type": "code",
   "execution_count": 10,
   "id": "advisory-blackjack",
   "metadata": {
    "id": "advisory-blackjack"
   },
   "outputs": [],
   "source": [
    "data = pd.read_csv(\"~/code/escuela2022/ciencia de datos/drive/Clase virtual/Módulo 2/Encuentro 1/Dataset Ejericios optativos Zarigueya.csv\")"
   ]
  },
  {
   "cell_type": "code",
   "execution_count": 24,
   "id": "8622ef17-ab15-4bf9-b3cd-be5828eb8a32",
   "metadata": {},
   "outputs": [
    {
     "data": {
      "text/plain": [
       "array(['Vic', nan, 'other'], dtype=object)"
      ]
     },
     "execution_count": 24,
     "metadata": {},
     "output_type": "execute_result"
    }
   ],
   "source": [
    "data.head(3)\n",
    "\n",
    "data.shape[0]\n",
    "data.dtypes\n",
    "data.populacion.unique()"
   ]
  },
  {
   "cell_type": "markdown",
   "id": "GrnQUEpLoyEh",
   "metadata": {
    "id": "GrnQUEpLoyEh"
   },
   "source": [
    "### Limpieza de datos - nulos\n",
    "\n",
    "- Revisar si el dataset tiene datos nulos y cuántos por columnas\n",
    "\n",
    "- En cada caso definir si se debe **imputar**, **eliminar** o **marcar** los datos nulos de acuerdo a los criterios vistos en clase. Se pueden reemplazar valores con datos específicos o con una lista creada de manera aleatoria, usar métodos de pandas como *fillna* o *dropna*"
   ]
  },
  {
   "cell_type": "code",
   "execution_count": 18,
   "id": "9f86e3de-c3a6-4575-bf08-ca6f788ee7fd",
   "metadata": {},
   "outputs": [
    {
     "data": {
      "text/plain": [
       "id             0\n",
       "sitio          0\n",
       "populacion     3\n",
       "sexo           5\n",
       "cabeza         0\n",
       "craneo         0\n",
       "largo_total    0\n",
       "taill          0\n",
       "pie            0\n",
       "oreja          0\n",
       "eye            0\n",
       "torax          0\n",
       "vientre        0\n",
       "edad           0\n",
       "dtype: int64"
      ]
     },
     "execution_count": 18,
     "metadata": {},
     "output_type": "execute_result"
    }
   ],
   "source": [
    "data.isnull().sum()\n",
    "data = data.fillna(dict(zip(tucols:=data.select_dtypes(include=np.number).columns.tolist(), map(lambda x: data[x].mean(),tucols))))\n",
    "data.isnull().sum()\n"
   ]
  },
  {
   "cell_type": "markdown",
   "id": "RFFxUWo0pu1n",
   "metadata": {
    "id": "RFFxUWo0pu1n"
   },
   "source": [
    "### Variables categóricas y numéricas\n",
    "\n",
    "- Revisar los tipos de datos que tiene cada columna del dataset\n",
    "- En el caso que haya variables categóricas convertirlas en numéricas: en el caso que sean variables categróicas nominales deben ser convertidas en variables dummies, para esto pueden reemplazarse valores con *apply* y *lambda*, creando una función propia o utilizando el método de pandas *get_dummies*."
   ]
  },
  {
   "cell_type": "markdown",
   "id": "5rC_FKtlhLOp",
   "metadata": {
    "id": "5rC_FKtlhLOp"
   },
   "source": [
    "### División de datos de entrenamiento y testeo\n",
    "\n"
   ]
  },
  {
   "cell_type": "code",
   "execution_count": null,
   "id": "XYqF03pmhTWc",
   "metadata": {
    "id": "XYqF03pmhTWc"
   },
   "outputs": [],
   "source": [
    "# Definir X e y siendo X las variables predictoras e y la variable a predecir\n",
    "\n",
    "X=\n",
    "y="
   ]
  },
  {
   "cell_type": "code",
   "execution_count": null,
   "id": "skLvFQRJhTZK",
   "metadata": {
    "id": "skLvFQRJhTZK"
   },
   "outputs": [],
   "source": [
    "# importamos train_test_split de la libreria scikit-learn\n",
    "\n",
    "from sklearn.model_selection import train_test_split "
   ]
  },
  {
   "cell_type": "code",
   "execution_count": null,
   "id": "-5dCQg4-hTcw",
   "metadata": {
    "id": "-5dCQg4-hTcw"
   },
   "outputs": [],
   "source": [
    "# Definimos X de entrenamiento y de testeo e y de entrenamiento y testeo\n",
    "\n"
   ]
  },
  {
   "cell_type": "code",
   "execution_count": null,
   "id": "JKRvlAlyht6m",
   "metadata": {
    "id": "JKRvlAlyht6m"
   },
   "outputs": [],
   "source": [
    "# Revisamos que esté correctamente realizada la operación\n",
    "\n",
    "print(x_train.shape)\n",
    "print(y_train.shape)\n",
    "print(x_test.shape)\n",
    "print(y_test.shape)"
   ]
  },
  {
   "cell_type": "markdown",
   "id": "EG0myRVfh0Pn",
   "metadata": {
    "id": "EG0myRVfh0Pn"
   },
   "source": [
    "### Entrenamiento del modelo"
   ]
  },
  {
   "cell_type": "code",
   "execution_count": null,
   "id": "jEwul2-hhx5i",
   "metadata": {
    "id": "jEwul2-hhx5i"
   },
   "outputs": [],
   "source": [
    "# Importamos el modelo que utilizaremos. Regresión lineal\n",
    "\n",
    "from sklearn.linear_model import LinearRegression"
   ]
  },
  {
   "cell_type": "code",
   "execution_count": null,
   "id": "2msLxUbjh6Ue",
   "metadata": {
    "id": "2msLxUbjh6Ue"
   },
   "outputs": [],
   "source": [
    "# Definimos un objeto con el modelo importado, en este caso los hiperparametros son por default por lo que el parentesis está vacio\n",
    "\n"
   ]
  },
  {
   "cell_type": "code",
   "execution_count": null,
   "id": "0SzPV4tqh86A",
   "metadata": {
    "id": "0SzPV4tqh86A"
   },
   "outputs": [],
   "source": [
    "# Realizamos el entrenamiento del modelo con el método fit y los datos de entrenamiento \n"
   ]
  },
  {
   "cell_type": "code",
   "execution_count": null,
   "id": "xzWoWJdRiAJX",
   "metadata": {
    "id": "xzWoWJdRiAJX"
   },
   "outputs": [],
   "source": [
    "# Observamos los parámetros del modelo entrenado\n",
    "# Coeficiente (la pendiente de la recta)\n"
   ]
  },
  {
   "cell_type": "code",
   "execution_count": null,
   "id": "I_z-2KCCiAQX",
   "metadata": {
    "id": "I_z-2KCCiAQX"
   },
   "outputs": [],
   "source": [
    "# Intercepto (el punto de comienzo de la recta en el eje y)\n"
   ]
  },
  {
   "cell_type": "markdown",
   "id": "HuNAtRzQiJZ9",
   "metadata": {
    "id": "HuNAtRzQiJZ9"
   },
   "source": [
    "### Testeo del modelo"
   ]
  },
  {
   "cell_type": "code",
   "execution_count": null,
   "id": "j86tK68diMfD",
   "metadata": {
    "id": "j86tK68diMfD"
   },
   "outputs": [],
   "source": [
    "# Probar nuestro modelo con predict y los datos de test\n"
   ]
  },
  {
   "cell_type": "code",
   "execution_count": null,
   "id": "7u60OzJNiQTQ",
   "metadata": {
    "id": "7u60OzJNiQTQ"
   },
   "outputs": [],
   "source": [
    "# Importar la métrica que se utiliza para medir la performance modelo de regresión lineal: R2\n",
    "\n",
    "from sklearn.metrics import r2_score\n"
   ]
  },
  {
   "cell_type": "code",
   "execution_count": null,
   "id": "ei0EFWgOiWfk",
   "metadata": {
    "id": "ei0EFWgOiWfk"
   },
   "outputs": [],
   "source": [
    "# Utilizar R2 para medir la performance del modelo\n",
    "\n",
    "r2"
   ]
  }
 ],
 "metadata": {
  "colab": {
   "name": "Ejercicios optativos módulo 2.ipynb",
   "provenance": []
  },
  "kernelspec": {
   "display_name": "Python 3 (ipykernel)",
   "language": "python",
   "name": "python3"
  },
  "language_info": {
   "codemirror_mode": {
    "name": "ipython",
    "version": 3
   },
   "file_extension": ".py",
   "mimetype": "text/x-python",
   "name": "python",
   "nbconvert_exporter": "python",
   "pygments_lexer": "ipython3",
   "version": "3.10.4"
  }
 },
 "nbformat": 4,
 "nbformat_minor": 5
}
