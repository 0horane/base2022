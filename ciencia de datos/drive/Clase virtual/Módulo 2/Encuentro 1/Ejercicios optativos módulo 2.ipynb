{
 "cells": [
  {
   "cell_type": "markdown",
   "id": "equal-officer",
   "metadata": {
    "id": "equal-officer"
   },
   "source": [
    "# Ejercicios optativos\n",
    "\n",
    "En caso que deseen practicar más el código, aquí tienen otro Dataset con ejercicios para realizar siguendo los pasos para hacer un proyecto entero de aprendizaje automático supervisado de regresión.\n",
    "\n",
    "### Definición del problema\n",
    "\n",
    "**¿Cuál será la edad de una zarigüeya en base a determinadas características?**\n",
    "\n",
    "### Búsqueda de datos\n",
    "\n",
    "El dataset que se utilizará es sobre zarigüeyas, consta de nueve medidas morfométricas en 104 zarigüeyas, atrapadas en siete sitios desde el sur de Victoria hasta el centro de Queensland (Australia). En base a estas características es posible predecir la edad.\n",
    "Esta basado en el dataset descargable en [Kaggle](https://www.kaggle.com/abrambeyer/openintro-possum) pero tiene realizadas algunas modificaciones por lo que debe ser tomado desde el archivo csv descargado desde la plataforma. \n"
   ]
  },
  {
   "cell_type": "markdown",
   "id": "mv6B6lCtkjsW",
   "metadata": {
    "id": "mv6B6lCtkjsW"
   },
   "source": [
    "### Hipótesis\n",
    "\n",
    "En primer lugar es necesario elaborar una **hipótesis** de qué variables consideran que pueden ser relevantes para predecir la edad de las zarigüeyas\n",
    "\n"
   ]
  },
  {
   "cell_type": "markdown",
   "id": "cd202810-a8d9-4801-a796-1daba68cf748",
   "metadata": {},
   "source": [
    "#### Hipotesis\n",
    "Todas menos sexo, poblacion y sisto, ya que las zariguellas crecen con su edad"
   ]
  },
  {
   "cell_type": "markdown",
   "id": "318vQ9fVipcw",
   "metadata": {
    "id": "318vQ9fVipcw"
   },
   "source": [
    "\n",
    "\n",
    "## Exploración del dataset\n",
    "\n",
    "Realizaremos la primer exploración y limpieza del dataset. \n",
    "La variable a predecir es *costo*.  \n",
    "\n",
    "\n",
    "Debemos: \n",
    "- Ver los primeros tres registros\n",
    "\n",
    "- Ver el tamaño del dataset\n",
    "\n",
    "- Ver los tipos de datos de cada columna\n",
    "\n",
    "- Ver las columnas que toma y escribir una pequeña descripción de cada una.\n",
    "\n",
    "- Renombrar las columnas *taill*(cola) y *eye*(ojo) para que esten en español\n",
    "\n",
    "- Usar el métdoo *describe()* para ver las variables numéricas\n",
    "\n",
    "- Usar el método *corr()* para ver la correlación entre las variables\n",
    "\n",
    "- De la variable a predecir **edad** ver los valores máximo, mínimo y \n",
    "promedio y hacer un gráfico *displot* para ver la distribución\n",
    "\n",
    "- De las variables **cabeza** y **craneo** ver los valores máximo, mínimo y promedio y hacer un gráfico *displot* para ver la distribución\n",
    "\n",
    "- De las variables **sexo** y **sitio** ver los valores que toma y cuántos registros de cada uno y hacer un gráfico *countplot* para visualizarlo\n",
    "\n",
    "- Luego de realizar la exploración, pensar que variables no serían necesarias en un modelo y eliminarlas\n",
    "   "
   ]
  },
  {
   "cell_type": "code",
   "execution_count": 2,
   "id": "altered-exemption",
   "metadata": {
    "id": "altered-exemption"
   },
   "outputs": [],
   "source": [
    "#importamos las librerias que utilizaremos\n",
    "\n",
    "import pandas as pd\n",
    "import matplotlib.pyplot as plt  \n",
    "import seaborn as sns\n",
    "import numpy as np"
   ]
  },
  {
   "cell_type": "code",
   "execution_count": 2,
   "id": "nutritional-torture",
   "metadata": {
    "colab": {
     "base_uri": "https://localhost:8080/"
    },
    "executionInfo": {
     "elapsed": 213787,
     "status": "ok",
     "timestamp": 1646526146675,
     "user": {
      "displayName": "Valeria Bellino",
      "photoUrl": "https://lh3.googleusercontent.com/a/default-user=s64",
      "userId": "05918551666787590515"
     },
     "user_tz": 180
    },
    "id": "nutritional-torture",
    "outputId": "12a6ce29-e5f9-453a-889c-cf5c2dd80105"
   },
   "outputs": [],
   "source": [
    "#from google.colab import drive\n",
    "#drive.mount('/content/drive')\n"
   ]
  },
  {
   "cell_type": "code",
   "execution_count": 18,
   "id": "advisory-blackjack",
   "metadata": {
    "id": "advisory-blackjack"
   },
   "outputs": [],
   "source": [
    "data = pd.read_csv(\"~/code/escuela2022/ciencia de datos/drive/Clase virtual/Módulo 2/Encuentro 1/Dataset Ejericios optativos Zarigueya.csv\")"
   ]
  },
  {
   "cell_type": "code",
   "execution_count": 4,
   "id": "8622ef17-ab15-4bf9-b3cd-be5828eb8a32",
   "metadata": {},
   "outputs": [
    {
     "data": {
      "text/plain": [
       "array(['Vic', nan, 'other'], dtype=object)"
      ]
     },
     "execution_count": 4,
     "metadata": {},
     "output_type": "execute_result"
    }
   ],
   "source": [
    "data.head(3)\n",
    "\n",
    "data.shape[0]\n",
    "data.dtypes\n",
    "data.populacion.unique()"
   ]
  },
  {
   "cell_type": "markdown",
   "id": "GrnQUEpLoyEh",
   "metadata": {
    "id": "GrnQUEpLoyEh"
   },
   "source": [
    "### Limpieza de datos - nulos\n",
    "\n",
    "- Revisar si el dataset tiene datos nulos y cuántos por columnas\n",
    "\n",
    "- En cada caso definir si se debe **imputar**, **eliminar** o **marcar** los datos nulos de acuerdo a los criterios vistos en clase. Se pueden reemplazar valores con datos específicos o con una lista creada de manera aleatoria, usar métodos de pandas como *fillna* o *dropna*"
   ]
  },
  {
   "cell_type": "code",
   "execution_count": 19,
   "id": "9f86e3de-c3a6-4575-bf08-ca6f788ee7fd",
   "metadata": {},
   "outputs": [
    {
     "data": {
      "text/plain": [
       "id             0\n",
       "sitio          0\n",
       "populacion     0\n",
       "sexo           0\n",
       "cabeza         0\n",
       "craneo         0\n",
       "largo_total    0\n",
       "taill          0\n",
       "pie            0\n",
       "oreja          0\n",
       "eye            0\n",
       "torax          0\n",
       "vientre        0\n",
       "edad           0\n",
       "dtype: int64"
      ]
     },
     "execution_count": 19,
     "metadata": {},
     "output_type": "execute_result"
    }
   ],
   "source": [
    "#data.isnull().sum()\n",
    "data = data.fillna(dict(zip(tucols:=data.select_dtypes(include=np.number).columns.tolist(), map(lambda x: data[x].mean(),tucols))))\n",
    "data.isnull().sum()\n",
    "data.loc[data[\"sexo\"].isna()]\n",
    "data.dropna(inplace=True)\n",
    "data.isnull().sum()\n"
   ]
  },
  {
   "cell_type": "markdown",
   "id": "RFFxUWo0pu1n",
   "metadata": {
    "id": "RFFxUWo0pu1n"
   },
   "source": [
    "### Variables categóricas y numéricas\n",
    "\n",
    "- Revisar los tipos de datos que tiene cada columna del dataset\n",
    "- En el caso que haya variables categóricas convertirlas en numéricas: en el caso que sean variables categróicas nominales deben ser convertidas en variables dummies, para esto pueden reemplazarse valores con *apply* y *lambda*, creando una función propia o utilizando el método de pandas *get_dummies*."
   ]
  },
  {
   "cell_type": "markdown",
   "id": "5rC_FKtlhLOp",
   "metadata": {
    "id": "5rC_FKtlhLOp"
   },
   "source": [
    "### División de datos de entrenamiento y testeo\n",
    "\n"
   ]
  },
  {
   "cell_type": "code",
   "execution_count": 21,
   "id": "XYqF03pmhTWc",
   "metadata": {
    "id": "XYqF03pmhTWc"
   },
   "outputs": [
    {
     "data": {
      "text/html": [
       "<div>\n",
       "<style scoped>\n",
       "    .dataframe tbody tr th:only-of-type {\n",
       "        vertical-align: middle;\n",
       "    }\n",
       "\n",
       "    .dataframe tbody tr th {\n",
       "        vertical-align: top;\n",
       "    }\n",
       "\n",
       "    .dataframe thead th {\n",
       "        text-align: right;\n",
       "    }\n",
       "</style>\n",
       "<table border=\"1\" class=\"dataframe\">\n",
       "  <thead>\n",
       "    <tr style=\"text-align: right;\">\n",
       "      <th></th>\n",
       "      <th>id</th>\n",
       "      <th>sitio</th>\n",
       "      <th>populacion</th>\n",
       "      <th>sexo</th>\n",
       "      <th>cabeza</th>\n",
       "      <th>craneo</th>\n",
       "      <th>largo_total</th>\n",
       "      <th>taill</th>\n",
       "      <th>pie</th>\n",
       "      <th>oreja</th>\n",
       "      <th>eye</th>\n",
       "      <th>torax</th>\n",
       "      <th>vientre</th>\n",
       "      <th>edad</th>\n",
       "    </tr>\n",
       "  </thead>\n",
       "  <tbody>\n",
       "    <tr>\n",
       "      <th>0</th>\n",
       "      <td>1</td>\n",
       "      <td>sitio 1</td>\n",
       "      <td>Vic</td>\n",
       "      <td>0</td>\n",
       "      <td>94.1</td>\n",
       "      <td>60.4</td>\n",
       "      <td>89.0</td>\n",
       "      <td>36.0</td>\n",
       "      <td>74.5</td>\n",
       "      <td>54.5</td>\n",
       "      <td>15.2</td>\n",
       "      <td>28.0</td>\n",
       "      <td>36.0</td>\n",
       "      <td>8.0</td>\n",
       "    </tr>\n",
       "    <tr>\n",
       "      <th>1</th>\n",
       "      <td>2</td>\n",
       "      <td>sitio 1</td>\n",
       "      <td>Vic</td>\n",
       "      <td>1</td>\n",
       "      <td>92.5</td>\n",
       "      <td>57.6</td>\n",
       "      <td>91.5</td>\n",
       "      <td>36.5</td>\n",
       "      <td>72.5</td>\n",
       "      <td>51.2</td>\n",
       "      <td>16.0</td>\n",
       "      <td>28.5</td>\n",
       "      <td>33.0</td>\n",
       "      <td>6.0</td>\n",
       "    </tr>\n",
       "    <tr>\n",
       "      <th>2</th>\n",
       "      <td>3</td>\n",
       "      <td>sitio 1</td>\n",
       "      <td>Vic</td>\n",
       "      <td>1</td>\n",
       "      <td>94.0</td>\n",
       "      <td>60.0</td>\n",
       "      <td>95.5</td>\n",
       "      <td>39.0</td>\n",
       "      <td>75.4</td>\n",
       "      <td>51.9</td>\n",
       "      <td>15.5</td>\n",
       "      <td>30.0</td>\n",
       "      <td>34.0</td>\n",
       "      <td>6.0</td>\n",
       "    </tr>\n",
       "    <tr>\n",
       "      <th>3</th>\n",
       "      <td>4</td>\n",
       "      <td>sitio 1</td>\n",
       "      <td>Vic</td>\n",
       "      <td>1</td>\n",
       "      <td>93.2</td>\n",
       "      <td>57.1</td>\n",
       "      <td>92.0</td>\n",
       "      <td>38.0</td>\n",
       "      <td>76.1</td>\n",
       "      <td>52.2</td>\n",
       "      <td>15.2</td>\n",
       "      <td>28.0</td>\n",
       "      <td>34.0</td>\n",
       "      <td>6.0</td>\n",
       "    </tr>\n",
       "    <tr>\n",
       "      <th>4</th>\n",
       "      <td>5</td>\n",
       "      <td>sitio 1</td>\n",
       "      <td>Vic</td>\n",
       "      <td>1</td>\n",
       "      <td>91.5</td>\n",
       "      <td>56.3</td>\n",
       "      <td>85.5</td>\n",
       "      <td>36.0</td>\n",
       "      <td>71.0</td>\n",
       "      <td>53.2</td>\n",
       "      <td>15.1</td>\n",
       "      <td>28.5</td>\n",
       "      <td>33.0</td>\n",
       "      <td>2.0</td>\n",
       "    </tr>\n",
       "    <tr>\n",
       "      <th>...</th>\n",
       "      <td>...</td>\n",
       "      <td>...</td>\n",
       "      <td>...</td>\n",
       "      <td>...</td>\n",
       "      <td>...</td>\n",
       "      <td>...</td>\n",
       "      <td>...</td>\n",
       "      <td>...</td>\n",
       "      <td>...</td>\n",
       "      <td>...</td>\n",
       "      <td>...</td>\n",
       "      <td>...</td>\n",
       "      <td>...</td>\n",
       "      <td>...</td>\n",
       "    </tr>\n",
       "    <tr>\n",
       "      <th>97</th>\n",
       "      <td>100</td>\n",
       "      <td>sitio 7</td>\n",
       "      <td>other</td>\n",
       "      <td>0</td>\n",
       "      <td>89.5</td>\n",
       "      <td>56.0</td>\n",
       "      <td>81.5</td>\n",
       "      <td>36.5</td>\n",
       "      <td>66.0</td>\n",
       "      <td>46.8</td>\n",
       "      <td>14.8</td>\n",
       "      <td>23.0</td>\n",
       "      <td>27.0</td>\n",
       "      <td>1.0</td>\n",
       "    </tr>\n",
       "    <tr>\n",
       "      <th>98</th>\n",
       "      <td>101</td>\n",
       "      <td>sitio 7</td>\n",
       "      <td>other</td>\n",
       "      <td>0</td>\n",
       "      <td>88.6</td>\n",
       "      <td>54.7</td>\n",
       "      <td>82.5</td>\n",
       "      <td>39.0</td>\n",
       "      <td>64.4</td>\n",
       "      <td>48.0</td>\n",
       "      <td>14.0</td>\n",
       "      <td>25.0</td>\n",
       "      <td>33.0</td>\n",
       "      <td>1.0</td>\n",
       "    </tr>\n",
       "    <tr>\n",
       "      <th>99</th>\n",
       "      <td>102</td>\n",
       "      <td>sitio 7</td>\n",
       "      <td>other</td>\n",
       "      <td>1</td>\n",
       "      <td>92.4</td>\n",
       "      <td>55.0</td>\n",
       "      <td>89.0</td>\n",
       "      <td>38.0</td>\n",
       "      <td>63.5</td>\n",
       "      <td>45.4</td>\n",
       "      <td>13.0</td>\n",
       "      <td>25.0</td>\n",
       "      <td>30.0</td>\n",
       "      <td>6.0</td>\n",
       "    </tr>\n",
       "    <tr>\n",
       "      <th>100</th>\n",
       "      <td>103</td>\n",
       "      <td>sitio 7</td>\n",
       "      <td>other</td>\n",
       "      <td>0</td>\n",
       "      <td>91.5</td>\n",
       "      <td>55.2</td>\n",
       "      <td>82.5</td>\n",
       "      <td>36.5</td>\n",
       "      <td>62.9</td>\n",
       "      <td>45.9</td>\n",
       "      <td>15.4</td>\n",
       "      <td>25.0</td>\n",
       "      <td>29.0</td>\n",
       "      <td>4.0</td>\n",
       "    </tr>\n",
       "    <tr>\n",
       "      <th>101</th>\n",
       "      <td>104</td>\n",
       "      <td>sitio 7</td>\n",
       "      <td>other</td>\n",
       "      <td>1</td>\n",
       "      <td>93.6</td>\n",
       "      <td>59.9</td>\n",
       "      <td>89.0</td>\n",
       "      <td>40.0</td>\n",
       "      <td>67.6</td>\n",
       "      <td>46.0</td>\n",
       "      <td>14.8</td>\n",
       "      <td>28.5</td>\n",
       "      <td>33.5</td>\n",
       "      <td>3.0</td>\n",
       "    </tr>\n",
       "  </tbody>\n",
       "</table>\n",
       "<p>94 rows × 14 columns</p>\n",
       "</div>"
      ],
      "text/plain": [
       "      id    sitio populacion  sexo  cabeza  craneo  largo_total  taill   pie  \\\n",
       "0      1  sitio 1        Vic     0    94.1    60.4         89.0   36.0  74.5   \n",
       "1      2  sitio 1        Vic     1    92.5    57.6         91.5   36.5  72.5   \n",
       "2      3  sitio 1        Vic     1    94.0    60.0         95.5   39.0  75.4   \n",
       "3      4  sitio 1        Vic     1    93.2    57.1         92.0   38.0  76.1   \n",
       "4      5  sitio 1        Vic     1    91.5    56.3         85.5   36.0  71.0   \n",
       "..   ...      ...        ...   ...     ...     ...          ...    ...   ...   \n",
       "97   100  sitio 7      other     0    89.5    56.0         81.5   36.5  66.0   \n",
       "98   101  sitio 7      other     0    88.6    54.7         82.5   39.0  64.4   \n",
       "99   102  sitio 7      other     1    92.4    55.0         89.0   38.0  63.5   \n",
       "100  103  sitio 7      other     0    91.5    55.2         82.5   36.5  62.9   \n",
       "101  104  sitio 7      other     1    93.6    59.9         89.0   40.0  67.6   \n",
       "\n",
       "     oreja   eye  torax  vientre  edad  \n",
       "0     54.5  15.2   28.0     36.0   8.0  \n",
       "1     51.2  16.0   28.5     33.0   6.0  \n",
       "2     51.9  15.5   30.0     34.0   6.0  \n",
       "3     52.2  15.2   28.0     34.0   6.0  \n",
       "4     53.2  15.1   28.5     33.0   2.0  \n",
       "..     ...   ...    ...      ...   ...  \n",
       "97    46.8  14.8   23.0     27.0   1.0  \n",
       "98    48.0  14.0   25.0     33.0   1.0  \n",
       "99    45.4  13.0   25.0     30.0   6.0  \n",
       "100   45.9  15.4   25.0     29.0   4.0  \n",
       "101   46.0  14.8   28.5     33.5   3.0  \n",
       "\n",
       "[94 rows x 14 columns]"
      ]
     },
     "execution_count": 21,
     "metadata": {},
     "output_type": "execute_result"
    }
   ],
   "source": [
    "# Definir X e y siendo X las variables predictoras e y la variable a predecir\n",
    "\n",
    "#X=\n",
    "#y=\n",
    "data[\"sexo\"]=data[\"sexo\"].apply(lambda x:1 if x==\"f\" else 0)\n",
    "data"
   ]
  },
  {
   "cell_type": "code",
   "execution_count": 22,
   "id": "skLvFQRJhTZK",
   "metadata": {
    "id": "skLvFQRJhTZK"
   },
   "outputs": [
    {
     "ename": "ModuleNotFoundError",
     "evalue": "No module named 'sklearn'",
     "output_type": "error",
     "traceback": [
      "\u001b[0;31m---------------------------------------------------------------------------\u001b[0m",
      "\u001b[0;31mModuleNotFoundError\u001b[0m                       Traceback (most recent call last)",
      "Input \u001b[0;32mIn [22]\u001b[0m, in \u001b[0;36m<cell line: 3>\u001b[0;34m()\u001b[0m\n\u001b[1;32m      1\u001b[0m \u001b[38;5;66;03m# importamos train_test_split de la libreria scikit-learn\u001b[39;00m\n\u001b[0;32m----> 3\u001b[0m \u001b[38;5;28;01mfrom\u001b[39;00m \u001b[38;5;21;01msklearn\u001b[39;00m\u001b[38;5;21;01m.\u001b[39;00m\u001b[38;5;21;01mmodel_selection\u001b[39;00m \u001b[38;5;28;01mimport\u001b[39;00m train_test_split\n",
      "\u001b[0;31mModuleNotFoundError\u001b[0m: No module named 'sklearn'"
     ]
    }
   ],
   "source": [
    "# importamos train_test_split de la libreria scikit-learn\n",
    "\n",
    "from sklearn.model_selection import train_test_split "
   ]
  },
  {
   "cell_type": "code",
   "execution_count": null,
   "id": "-5dCQg4-hTcw",
   "metadata": {
    "id": "-5dCQg4-hTcw"
   },
   "outputs": [],
   "source": [
    "# Definimos X de entrenamiento y de testeo e y de entrenamiento y testeo\n",
    "\n"
   ]
  },
  {
   "cell_type": "code",
   "execution_count": null,
   "id": "JKRvlAlyht6m",
   "metadata": {
    "id": "JKRvlAlyht6m"
   },
   "outputs": [],
   "source": [
    "# Revisamos que esté correctamente realizada la operación\n",
    "\n",
    "print(x_train.shape)\n",
    "print(y_train.shape)\n",
    "print(x_test.shape)\n",
    "print(y_test.shape)"
   ]
  },
  {
   "cell_type": "markdown",
   "id": "EG0myRVfh0Pn",
   "metadata": {
    "id": "EG0myRVfh0Pn"
   },
   "source": [
    "### Entrenamiento del modelo"
   ]
  },
  {
   "cell_type": "code",
   "execution_count": null,
   "id": "jEwul2-hhx5i",
   "metadata": {
    "id": "jEwul2-hhx5i"
   },
   "outputs": [],
   "source": [
    "# Importamos el modelo que utilizaremos. Regresión lineal\n",
    "\n",
    "from sklearn.linear_model import LinearRegression"
   ]
  },
  {
   "cell_type": "code",
   "execution_count": null,
   "id": "2msLxUbjh6Ue",
   "metadata": {
    "id": "2msLxUbjh6Ue"
   },
   "outputs": [],
   "source": [
    "# Definimos un objeto con el modelo importado, en este caso los hiperparametros son por default por lo que el parentesis está vacio\n",
    "\n"
   ]
  },
  {
   "cell_type": "code",
   "execution_count": null,
   "id": "0SzPV4tqh86A",
   "metadata": {
    "id": "0SzPV4tqh86A"
   },
   "outputs": [],
   "source": [
    "# Realizamos el entrenamiento del modelo con el método fit y los datos de entrenamiento \n"
   ]
  },
  {
   "cell_type": "code",
   "execution_count": null,
   "id": "xzWoWJdRiAJX",
   "metadata": {
    "id": "xzWoWJdRiAJX"
   },
   "outputs": [],
   "source": [
    "# Observamos los parámetros del modelo entrenado\n",
    "# Coeficiente (la pendiente de la recta)\n"
   ]
  },
  {
   "cell_type": "code",
   "execution_count": null,
   "id": "I_z-2KCCiAQX",
   "metadata": {
    "id": "I_z-2KCCiAQX"
   },
   "outputs": [],
   "source": [
    "# Intercepto (el punto de comienzo de la recta en el eje y)\n"
   ]
  },
  {
   "cell_type": "markdown",
   "id": "HuNAtRzQiJZ9",
   "metadata": {
    "id": "HuNAtRzQiJZ9"
   },
   "source": [
    "### Testeo del modelo"
   ]
  },
  {
   "cell_type": "code",
   "execution_count": null,
   "id": "j86tK68diMfD",
   "metadata": {
    "id": "j86tK68diMfD"
   },
   "outputs": [],
   "source": [
    "# Probar nuestro modelo con predict y los datos de test\n"
   ]
  },
  {
   "cell_type": "code",
   "execution_count": null,
   "id": "7u60OzJNiQTQ",
   "metadata": {
    "id": "7u60OzJNiQTQ"
   },
   "outputs": [],
   "source": [
    "# Importar la métrica que se utiliza para medir la performance modelo de regresión lineal: R2\n",
    "\n",
    "from sklearn.metrics import r2_score\n"
   ]
  },
  {
   "cell_type": "code",
   "execution_count": null,
   "id": "ei0EFWgOiWfk",
   "metadata": {
    "id": "ei0EFWgOiWfk"
   },
   "outputs": [],
   "source": [
    "# Utilizar R2 para medir la performance del modelo\n",
    "\n",
    "r2"
   ]
  }
 ],
 "metadata": {
  "colab": {
   "name": "Ejercicios optativos módulo 2.ipynb",
   "provenance": []
  },
  "kernelspec": {
   "display_name": "Python 3 (ipykernel)",
   "language": "python",
   "name": "python3"
  },
  "language_info": {
   "codemirror_mode": {
    "name": "ipython",
    "version": 3
   },
   "file_extension": ".py",
   "mimetype": "text/x-python",
   "name": "python",
   "nbconvert_exporter": "python",
   "pygments_lexer": "ipython3",
   "version": "3.10.4"
  }
 },
 "nbformat": 4,
 "nbformat_minor": 5
}
