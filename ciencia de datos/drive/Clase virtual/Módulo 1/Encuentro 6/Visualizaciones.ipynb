{
 "cells": [
  {
   "cell_type": "markdown",
   "id": "neither-theorem",
   "metadata": {
    "id": "neither-theorem"
   },
   "source": [
    "## Gráficos\n",
    "\n",
    "En la clase de hoy haremos una introducción a la creación de gráficos con dos librerías: matplotlib y seaborn. La librería matplotlib está conformada por diversos módulos. De todos ellos nos interesa trabajar con pyplot, el cual contiene las funciones básicas para generar gráficos. \n",
    "\n",
    "#### Matplotlib y Seaborn.\n",
    " \n",
    "[Matplotlib](https://matplotlib.org/) es una de las principales librerías a la hora de graficar datos. Con esta se pueden realizar gráficos de barra, gráficos de línea, histogramas, gráficos de dispersión, mapas de calor, y otras visualizaciones. Incluso nos permite combinar diferentes tipos de visualización. Todo esto permitiendo editar los colores, fuentes, texto, etc. \n",
    " \n",
    "Por su parte [Seaborn](https://seaborn.pydata.org/) es una libreria que une lo mejor de Matplotlib y Pandas, permitiendo crear, de forma muy sencilla gráficos de Matplotlib partiendo del uso de Data Frames de Pandas. Seaborn también tiene una [hoja de trucos](https://s3.amazonaws.com/assets.datacamp.com/blog_assets/Python_Seaborn_Cheat_Sheet.pdf) muy útil. \n",
    " \n"
   ]
  },
  {
   "cell_type": "code",
   "execution_count": 17,
   "id": "Yb9vtI-oRs3O",
   "metadata": {
    "colab": {
     "base_uri": "https://localhost:8080/",
     "height": 312
    },
    "executionInfo": {
     "elapsed": 988,
     "status": "ok",
     "timestamp": 1652998644351,
     "user": {
      "displayName": "Daniel Alberto Arias",
      "userId": "18178814029517707016"
     },
     "user_tz": 180
    },
    "id": "Yb9vtI-oRs3O",
    "outputId": "4b8f1a36-b111-4ce2-981b-934b6ebe2dbf"
   },
   "outputs": [
    {
     "data": {
      "text/plain": [
       "Text(0.5, 1.0, 'asd')"
      ]
     },
     "execution_count": 17,
     "metadata": {},
     "output_type": "execute_result"
    },
    {
     "data": {
      "image/png": "[encoded data removed]",
      "text/plain": [
       "<Figure size 720x288 with 1 Axes>"
      ]
     },
     "metadata": {
      "needs_background": "light"
     },
     "output_type": "display_data"
    }
   ],
   "source": [
    "import matplotlib.pyplot as plt \n",
    "import numpy as np\n",
    "import math\n",
    "\n",
    "x = np.array(range(-100,100,5))\n",
    "y = x**2\n",
    "\n",
    "fig, ax = plt.subplots(figsize = (10,4))\n",
    "ax.plot(x,y,\"-.\")\n",
    "ax.set_xlabel(\"Eje x\")\n",
    "ax.set_ylabel(\"Eje y\")\n",
    "ax.set_title(\"asd\")"
   ]
  },
  {
   "cell_type": "code",
   "execution_count": 9,
   "id": "collaborative-order",
   "metadata": {
    "id": "collaborative-order"
   },
   "outputs": [],
   "source": [
    "#importamos las librerias que utilizaremos\n",
    "import pandas as pd\n",
    "import matplotlib.pyplot as plt   # Solo importamos el módulo pyplot. se podría hacer \"from matplotlib import pyplot as plt\"\n",
    "import seaborn as sns"
   ]
  },
  {
   "cell_type": "markdown",
   "id": "FHj6Uaq7uHBY",
   "metadata": {
    "id": "FHj6Uaq7uHBY"
   },
   "source": [
    "La librería Seaborn permite cargar Dataset incluídos en ella. En este caso utilizaremos un dataset de exoplanetas que se han descubierto hasta 2014 extraído de https://exoplanets.nasa.gov/discovery/exoplanet-catalog/"
   ]
  },
  {
   "cell_type": "code",
   "execution_count": 10,
   "id": "vYcqlx9Mt3t9",
   "metadata": {
    "colab": {
     "base_uri": "https://localhost:8080/",
     "height": 206
    },
    "executionInfo": {
     "elapsed": 740,
     "status": "ok",
     "timestamp": 1652997365337,
     "user": {
      "displayName": "Daniel Alberto Arias",
      "userId": "18178814029517707016"
     },
     "user_tz": 180
    },
    "id": "vYcqlx9Mt3t9",
    "outputId": "885b876c-421c-42b0-b952-9684a1924833"
   },
   "outputs": [
    {
     "data": {
      "text/html": [
       "<div>\n",
       "<style scoped>\n",
       "    .dataframe tbody tr th:only-of-type {\n",
       "        vertical-align: middle;\n",
       "    }\n",
       "\n",
       "    .dataframe tbody tr th {\n",
       "        vertical-align: top;\n",
       "    }\n",
       "\n",
       "    .dataframe thead th {\n",
       "        text-align: right;\n",
       "    }\n",
       "</style>\n",
       "<table border=\"1\" class=\"dataframe\">\n",
       "  <thead>\n",
       "    <tr style=\"text-align: right;\">\n",
       "      <th></th>\n",
       "      <th>method</th>\n",
       "      <th>number</th>\n",
       "      <th>orbital_period</th>\n",
       "      <th>mass</th>\n",
       "      <th>distance</th>\n",
       "      <th>year</th>\n",
       "    </tr>\n",
       "  </thead>\n",
       "  <tbody>\n",
       "    <tr>\n",
       "      <th>0</th>\n",
       "      <td>Radial Velocity</td>\n",
       "      <td>1</td>\n",
       "      <td>269.300</td>\n",
       "      <td>7.10</td>\n",
       "      <td>77.40</td>\n",
       "      <td>2006</td>\n",
       "    </tr>\n",
       "    <tr>\n",
       "      <th>1</th>\n",
       "      <td>Radial Velocity</td>\n",
       "      <td>1</td>\n",
       "      <td>874.774</td>\n",
       "      <td>2.21</td>\n",
       "      <td>56.95</td>\n",
       "      <td>2008</td>\n",
       "    </tr>\n",
       "    <tr>\n",
       "      <th>2</th>\n",
       "      <td>Radial Velocity</td>\n",
       "      <td>1</td>\n",
       "      <td>763.000</td>\n",
       "      <td>2.60</td>\n",
       "      <td>19.84</td>\n",
       "      <td>2011</td>\n",
       "    </tr>\n",
       "    <tr>\n",
       "      <th>3</th>\n",
       "      <td>Radial Velocity</td>\n",
       "      <td>1</td>\n",
       "      <td>326.030</td>\n",
       "      <td>19.40</td>\n",
       "      <td>110.62</td>\n",
       "      <td>2007</td>\n",
       "    </tr>\n",
       "    <tr>\n",
       "      <th>4</th>\n",
       "      <td>Radial Velocity</td>\n",
       "      <td>1</td>\n",
       "      <td>516.220</td>\n",
       "      <td>10.50</td>\n",
       "      <td>119.47</td>\n",
       "      <td>2009</td>\n",
       "    </tr>\n",
       "  </tbody>\n",
       "</table>\n",
       "</div>"
      ],
      "text/plain": [
       "            method  number  orbital_period   mass  distance  year\n",
       "0  Radial Velocity       1         269.300   7.10     77.40  2006\n",
       "1  Radial Velocity       1         874.774   2.21     56.95  2008\n",
       "2  Radial Velocity       1         763.000   2.60     19.84  2011\n",
       "3  Radial Velocity       1         326.030  19.40    110.62  2007\n",
       "4  Radial Velocity       1         516.220  10.50    119.47  2009"
      ]
     },
     "execution_count": 10,
     "metadata": {},
     "output_type": "execute_result"
    }
   ],
   "source": [
    "data_planets = sns.load_dataset('planets')\n",
    "data_planets.head()"
   ]
  },
  {
   "cell_type": "code",
   "execution_count": 12,
   "id": "YeBQbCX2uRJh",
   "metadata": {
    "colab": {
     "base_uri": "https://localhost:8080/"
    },
    "executionInfo": {
     "elapsed": 275,
     "status": "ok",
     "timestamp": 1652997386179,
     "user": {
      "displayName": "Daniel Alberto Arias",
      "userId": "18178814029517707016"
     },
     "user_tz": 180
    },
    "id": "YeBQbCX2uRJh",
    "outputId": "8222ca71-14d6-42e2-c323-fdcc149fe269"
   },
   "outputs": [
    {
     "name": "stdout",
     "output_type": "stream",
     "text": [
      "(1035, 6)\n"
     ]
    }
   ],
   "source": [
    "print(data_planets.shape)"
   ]
  },
  {
   "cell_type": "markdown",
   "id": "reBCsMclpaRu",
   "metadata": {
    "id": "reBCsMclpaRu"
   },
   "source": [
    "#### Countplot\n",
    "\n",
    "Ahora realizaremos un gráfico de barras que permite visualizar la cantidad de registros por determinada columna.  \n",
    "En este caso realizaremos un gráfico de la cantidad de planetas por cada método de descubrimiento.\n",
    "[Ver documentación countplot](https://seaborn.pydata.org/generated/seaborn.countplot.html?highlight=countplot#seaborn.countplotde)\n",
    "\n",
    "Primero realizaremos *value_counts()* para conocer los valores"
   ]
  },
  {
   "cell_type": "code",
   "execution_count": null,
   "id": "8cR2YYj7vqkl",
   "metadata": {
    "colab": {
     "base_uri": "https://localhost:8080/"
    },
    "executionInfo": {
     "elapsed": 263,
     "status": "ok",
     "timestamp": 1652997421883,
     "user": {
      "displayName": "Daniel Alberto Arias",
      "userId": "18178814029517707016"
     },
     "user_tz": 180
    },
    "id": "8cR2YYj7vqkl",
    "outputId": "0655c889-131c-46db-b6a7-43e75a04f411"
   },
   "outputs": [
    {
     "data": {
      "text/plain": [
       "Radial Velocity                  553\n",
       "Transit                          397\n",
       "Imaging                           38\n",
       "Microlensing                      23\n",
       "Eclipse Timing Variations          9\n",
       "Pulsar Timing                      5\n",
       "Transit Timing Variations          4\n",
       "Orbital Brightness Modulation      3\n",
       "Astrometry                         2\n",
       "Pulsation Timing Variations        1\n",
       "Name: method, dtype: int64"
      ]
     },
     "execution_count": 10,
     "metadata": {},
     "output_type": "execute_result"
    }
   ],
   "source": [
    "data_planets[\"method\"].value_counts()"
   ]
  },
  {
   "cell_type": "code",
   "execution_count": null,
   "id": "O-kjfUKFpv_l",
   "metadata": {
    "colab": {
     "base_uri": "https://localhost:8080/",
     "height": 334
    },
    "executionInfo": {
     "elapsed": 811,
     "status": "ok",
     "timestamp": 1652997480822,
     "user": {
      "displayName": "Daniel Alberto Arias",
      "userId": "18178814029517707016"
     },
     "user_tz": 180
    },
    "id": "O-kjfUKFpv_l",
    "outputId": "5c628f50-6895-497e-dbd1-ed7ae8da8547"
   },
   "outputs": [
    {
     "name": "stderr",
     "output_type": "stream",
     "text": [
      "/usr/local/lib/python3.7/dist-packages/seaborn/_decorators.py:43: FutureWarning: Pass the following variable as a keyword arg: x. From version 0.12, the only valid positional argument will be `data`, and passing other arguments without an explicit keyword will result in an error or misinterpretation.\n",
      "  FutureWarning\n"
     ]
    },
    {
     "data": {
      "image/png": "[encoded data removed]",
      "text/plain": [
       "<Figure size 432x288 with 1 Axes>"
      ]
     },
     "metadata": {
      "needs_background": "light"
     },
     "output_type": "display_data"
    }
   ],
   "source": [
    "sns.countplot(data_planets[\"method\"]);"
   ]
  },
  {
   "cell_type": "code",
   "execution_count": null,
   "id": "hZfHkQyjvyJz",
   "metadata": {
    "colab": {
     "base_uri": "https://localhost:8080/",
     "height": 296
    },
    "executionInfo": {
     "elapsed": 308,
     "status": "ok",
     "timestamp": 1652997572137,
     "user": {
      "displayName": "Daniel Alberto Arias",
      "userId": "18178814029517707016"
     },
     "user_tz": 180
    },
    "id": "hZfHkQyjvyJz",
    "outputId": "bd7f3e21-4d05-4b09-8322-80e6e4a0c7e3"
   },
   "outputs": [
    {
     "data": {
      "text/plain": [
       "<matplotlib.axes._subplots.AxesSubplot at 0x7fad40a5fad0>"
      ]
     },
     "execution_count": 13,
     "metadata": {},
     "output_type": "execute_result"
    },
    {
     "data": {
      "image/png": "[encoded data removed]",
      "text/plain": [
       "<Figure size 432x288 with 1 Axes>"
      ]
     },
     "metadata": {
      "needs_background": "light"
     },
     "output_type": "display_data"
    }
   ],
   "source": [
    "# para cambiar el eje x y que se vea correctamente\n",
    "\n",
    "sns.countplot(y=data_planets[\"method\"])"
   ]
  },
  {
   "cell_type": "markdown",
   "id": "jZhrv1C0nZjq",
   "metadata": {
    "id": "jZhrv1C0nZjq"
   },
   "source": [
    "#### Barplot\n",
    "\n",
    "Ahora realizaremos un barplot de la librería Seaborn. \n",
    "\n",
    "Esto es un gráfico de barras con la cantidad de cada tipo, realizaremos un gráfico similar al anterior pero de la cantidad de planetas descubiertos en cada año. Para esto primero realizaremos una agrupación por año y la utilizaremos esta agrupación para realizar el gráfico.\n",
    "\n",
    "[Ver Documentación barplot](https://seaborn.pydata.org/generated/seaborn.barplot.html)\n"
   ]
  },
  {
   "cell_type": "code",
   "execution_count": null,
   "id": "PwmXl5uPOG5Y",
   "metadata": {
    "id": "PwmXl5uPOG5Y"
   },
   "outputs": [],
   "source": [
    "lista1 = []\n",
    "lista2 = []\n",
    "diccionario = {zip(lista1,lista2)}\n",
    "data = pd.DataFrame(diccionario)"
   ]
  },
  {
   "cell_type": "code",
   "execution_count": null,
   "id": "XtZlC0RQoCv9",
   "metadata": {
    "id": "XtZlC0RQoCv9"
   },
   "outputs": [],
   "source": [
    "# Realizamos la agrupación a través de la columna \"encuentro_anio\"\n",
    "\n",
    "data_agrupada = data_planets.groupby(\"year\")"
   ]
  },
  {
   "cell_type": "code",
   "execution_count": null,
   "id": "K8GtQAcAoxEJ",
   "metadata": {
    "colab": {
     "base_uri": "https://localhost:8080/"
    },
    "executionInfo": {
     "elapsed": 295,
     "status": "ok",
     "timestamp": 1652997670818,
     "user": {
      "displayName": "Daniel Alberto Arias",
      "userId": "18178814029517707016"
     },
     "user_tz": 180
    },
    "id": "K8GtQAcAoxEJ",
    "outputId": "6caa62cc-3914-450c-985a-1959ef7ce740"
   },
   "outputs": [
    {
     "data": {
      "text/plain": [
       "year\n",
       "1989      1\n",
       "1992      2\n",
       "1994      1\n",
       "1995      1\n",
       "1996      6\n",
       "1997      1\n",
       "1998      5\n",
       "1999     15\n",
       "2000     16\n",
       "2001     12\n",
       "2002     32\n",
       "2003     25\n",
       "2004     26\n",
       "2005     39\n",
       "2006     31\n",
       "2007     53\n",
       "2008     74\n",
       "2009     98\n",
       "2010    102\n",
       "2011    185\n",
       "2012    140\n",
       "2013    118\n",
       "2014     52\n",
       "Name: year, dtype: int64"
      ]
     },
     "execution_count": 15,
     "metadata": {},
     "output_type": "execute_result"
    }
   ],
   "source": [
    "# Generamos el dato de la cantidad de encuentros sobre la agrupación (se cuenta year pero podria ser sobre cualquiera)\n",
    "\n",
    "data_para_grafico = data_agrupada[\"year\"].count()\n",
    "data_para_grafico"
   ]
  },
  {
   "cell_type": "code",
   "execution_count": null,
   "id": "WQV9B8Rx_kw5",
   "metadata": {
    "colab": {
     "base_uri": "https://localhost:8080/",
     "height": 296
    },
    "executionInfo": {
     "elapsed": 620,
     "status": "ok",
     "timestamp": 1652997719774,
     "user": {
      "displayName": "Daniel Alberto Arias",
      "userId": "18178814029517707016"
     },
     "user_tz": 180
    },
    "id": "WQV9B8Rx_kw5",
    "outputId": "4295f137-3525-47d8-9049-d82fb2db9110"
   },
   "outputs": [
    {
     "data": {
      "text/plain": [
       "<matplotlib.axes._subplots.AxesSubplot at 0x7fad409e1a90>"
      ]
     },
     "execution_count": 16,
     "metadata": {},
     "output_type": "execute_result"
    },
    {
     "data": {
      "image/png": "[encoded data removed]",
      "text/plain": [
       "<Figure size 432x288 with 1 Axes>"
      ]
     },
     "metadata": {
      "needs_background": "light"
     },
     "output_type": "display_data"
    }
   ],
   "source": [
    "sns.barplot(x=data_para_grafico.index, y=data_para_grafico)    #Index es el índice, en este caso el año de descubrimiento\n"
   ]
  },
  {
   "cell_type": "code",
   "execution_count": null,
   "id": "kfEMUC_y6FtY",
   "metadata": {
    "colab": {
     "base_uri": "https://localhost:8080/",
     "height": 329
    },
    "executionInfo": {
     "elapsed": 817,
     "status": "ok",
     "timestamp": 1652997806187,
     "user": {
      "displayName": "Daniel Alberto Arias",
      "userId": "18178814029517707016"
     },
     "user_tz": 180
    },
    "id": "kfEMUC_y6FtY",
    "outputId": "5391fdfc-8a4a-4f2e-cffe-0dec91c2c1be"
   },
   "outputs": [
    {
     "data": {
      "text/plain": [
       "(array([ 0,  1,  2,  3,  4,  5,  6,  7,  8,  9, 10, 11, 12, 13, 14, 15, 16,\n",
       "        17, 18, 19, 20, 21, 22]), <a list of 23 Text major ticklabel objects>)"
      ]
     },
     "execution_count": 18,
     "metadata": {},
     "output_type": "execute_result"
    },
    {
     "data": {
      "image/png": "[encoded data removed]",
      "text/plain": [
       "<Figure size 432x288 with 1 Axes>"
      ]
     },
     "metadata": {
      "needs_background": "light"
     },
     "output_type": "display_data"
    }
   ],
   "source": [
    "# Cambiaremos la rotación de la etiquetas del eje X con plt.xticks\n",
    "\n",
    "sns.barplot(x=data_para_grafico.index, y=data_para_grafico)    #Index es el índice, en este caso el año de descubrimiento\n",
    "plt.xticks(rotation=45)\n"
   ]
  },
  {
   "cell_type": "markdown",
   "id": "MXcOm7cF0Vn0",
   "metadata": {
    "id": "MXcOm7cF0Vn0"
   },
   "source": [
    "#### Displot\n",
    "\n",
    "Este gráfico sirve para ver distribuciones de variables numéricas, en este caso vamos a ver la masa de los exoplanetas.\n",
    "\n",
    "[Ver Documentación displot](https://seaborn.pydata.org/generated/seaborn.displot.html?highlight=displot#seaborn.displot)"
   ]
  },
  {
   "cell_type": "code",
   "execution_count": 13,
   "id": "8tq7HrBBz6SA",
   "metadata": {
    "colab": {
     "base_uri": "https://localhost:8080/",
     "height": 386
    },
    "executionInfo": {
     "elapsed": 885,
     "status": "ok",
     "timestamp": 1652998239140,
     "user": {
      "displayName": "Daniel Alberto Arias",
      "userId": "18178814029517707016"
     },
     "user_tz": 180
    },
    "id": "8tq7HrBBz6SA",
    "outputId": "bdde2d7a-9549-4616-ba2c-41755b82088b"
   },
   "outputs": [
    {
     "data": {
      "text/plain": [
       "<seaborn.axisgrid.FacetGrid at 0x7f3b977ef130>"
      ]
     },
     "execution_count": 13,
     "metadata": {},
     "output_type": "execute_result"
    },
    {
     "data": {
      "image/png": "[encoded data removed]",
      "text/plain": [
       "<Figure size 360x360 with 1 Axes>"
      ]
     },
     "metadata": {
      "needs_background": "light"
     },
     "output_type": "display_data"
    }
   ],
   "source": [
    "sns.displot(data=data_planets, x=\"mass\",kind=\"kde\")\n"
   ]
  },
  {
   "cell_type": "markdown",
   "id": "4G0LIGyNyBwH",
   "metadata": {
    "id": "4G0LIGyNyBwH"
   },
   "source": [
    "#### Scatterplot\n",
    "\n",
    "Otro gráfico que se puede realizr es Scatterplot que grafica puntos en dos ejes XY, en este caso cada punto será un planeta y gráficaremos *mass* y *distance* para ver si podemos ver una relación.\n",
    "\n",
    "[Ver Documentación scatterplot](https://seaborn.pydata.org/generated/seaborn.scatterplot.html?highlight=scatterplot#seaborn.scatterplot)"
   ]
  },
  {
   "cell_type": "code",
   "execution_count": 14,
   "id": "Td08dLBitfYO",
   "metadata": {
    "colab": {
     "base_uri": "https://localhost:8080/",
     "height": 296
    },
    "executionInfo": {
     "elapsed": 848,
     "status": "ok",
     "timestamp": 1652998280852,
     "user": {
      "displayName": "Daniel Alberto Arias",
      "userId": "18178814029517707016"
     },
     "user_tz": 180
    },
    "id": "Td08dLBitfYO",
    "outputId": "bcff72cb-9c1c-4cf1-9010-261c2582c63f"
   },
   "outputs": [
    {
     "data": {
      "text/plain": [
       "<AxesSubplot:xlabel='distance', ylabel='mass'>"
      ]
     },
     "execution_count": 14,
     "metadata": {},
     "output_type": "execute_result"
    },
    {
     "data": {
      "image/png": "[encoded data removed]",
      "text/plain": [
       "<Figure size 432x288 with 1 Axes>"
      ]
     },
     "metadata": {
      "needs_background": "light"
     },
     "output_type": "display_data"
    }
   ],
   "source": []
  },
  {
   "cell_type": "code",
   "execution_count": 16,
   "id": "tPpvWa2JYBBk",
   "metadata": {
    "id": "tPpvWa2JYBBk"
   },
   "outputs": [
    {
     "data": {
      "text/html": [
       "<div>\n",
       "<style scoped>\n",
       "    .dataframe tbody tr th:only-of-type {\n",
       "        vertical-align: middle;\n",
       "    }\n",
       "\n",
       "    .dataframe tbody tr th {\n",
       "        vertical-align: top;\n",
       "    }\n",
       "\n",
       "    .dataframe thead th {\n",
       "        text-align: right;\n",
       "    }\n",
       "</style>\n",
       "<table border=\"1\" class=\"dataframe\">\n",
       "  <thead>\n",
       "    <tr style=\"text-align: right;\">\n",
       "      <th></th>\n",
       "      <th>method</th>\n",
       "      <th>number</th>\n",
       "      <th>orbital_period</th>\n",
       "      <th>mass</th>\n",
       "      <th>distance</th>\n",
       "      <th>year</th>\n",
       "    </tr>\n",
       "  </thead>\n",
       "  <tbody>\n",
       "    <tr>\n",
       "      <th>0</th>\n",
       "      <td>Radial Velocity</td>\n",
       "      <td>1</td>\n",
       "      <td>269.300000</td>\n",
       "      <td>7.10</td>\n",
       "      <td>77.40</td>\n",
       "      <td>2006</td>\n",
       "    </tr>\n",
       "    <tr>\n",
       "      <th>1</th>\n",
       "      <td>Radial Velocity</td>\n",
       "      <td>1</td>\n",
       "      <td>874.774000</td>\n",
       "      <td>2.21</td>\n",
       "      <td>56.95</td>\n",
       "      <td>2008</td>\n",
       "    </tr>\n",
       "    <tr>\n",
       "      <th>2</th>\n",
       "      <td>Radial Velocity</td>\n",
       "      <td>1</td>\n",
       "      <td>763.000000</td>\n",
       "      <td>2.60</td>\n",
       "      <td>19.84</td>\n",
       "      <td>2011</td>\n",
       "    </tr>\n",
       "    <tr>\n",
       "      <th>3</th>\n",
       "      <td>Radial Velocity</td>\n",
       "      <td>1</td>\n",
       "      <td>326.030000</td>\n",
       "      <td>19.40</td>\n",
       "      <td>110.62</td>\n",
       "      <td>2007</td>\n",
       "    </tr>\n",
       "    <tr>\n",
       "      <th>4</th>\n",
       "      <td>Radial Velocity</td>\n",
       "      <td>1</td>\n",
       "      <td>516.220000</td>\n",
       "      <td>10.50</td>\n",
       "      <td>119.47</td>\n",
       "      <td>2009</td>\n",
       "    </tr>\n",
       "    <tr>\n",
       "      <th>...</th>\n",
       "      <td>...</td>\n",
       "      <td>...</td>\n",
       "      <td>...</td>\n",
       "      <td>...</td>\n",
       "      <td>...</td>\n",
       "      <td>...</td>\n",
       "    </tr>\n",
       "    <tr>\n",
       "      <th>1030</th>\n",
       "      <td>Transit</td>\n",
       "      <td>1</td>\n",
       "      <td>3.941507</td>\n",
       "      <td>NaN</td>\n",
       "      <td>172.00</td>\n",
       "      <td>2006</td>\n",
       "    </tr>\n",
       "    <tr>\n",
       "      <th>1031</th>\n",
       "      <td>Transit</td>\n",
       "      <td>1</td>\n",
       "      <td>2.615864</td>\n",
       "      <td>NaN</td>\n",
       "      <td>148.00</td>\n",
       "      <td>2007</td>\n",
       "    </tr>\n",
       "    <tr>\n",
       "      <th>1032</th>\n",
       "      <td>Transit</td>\n",
       "      <td>1</td>\n",
       "      <td>3.191524</td>\n",
       "      <td>NaN</td>\n",
       "      <td>174.00</td>\n",
       "      <td>2007</td>\n",
       "    </tr>\n",
       "    <tr>\n",
       "      <th>1033</th>\n",
       "      <td>Transit</td>\n",
       "      <td>1</td>\n",
       "      <td>4.125083</td>\n",
       "      <td>NaN</td>\n",
       "      <td>293.00</td>\n",
       "      <td>2008</td>\n",
       "    </tr>\n",
       "    <tr>\n",
       "      <th>1034</th>\n",
       "      <td>Transit</td>\n",
       "      <td>1</td>\n",
       "      <td>4.187757</td>\n",
       "      <td>NaN</td>\n",
       "      <td>260.00</td>\n",
       "      <td>2008</td>\n",
       "    </tr>\n",
       "  </tbody>\n",
       "</table>\n",
       "<p>1035 rows × 6 columns</p>\n",
       "</div>"
      ],
      "text/plain": [
       "               method  number  orbital_period   mass  distance  year\n",
       "0     Radial Velocity       1      269.300000   7.10     77.40  2006\n",
       "1     Radial Velocity       1      874.774000   2.21     56.95  2008\n",
       "2     Radial Velocity       1      763.000000   2.60     19.84  2011\n",
       "3     Radial Velocity       1      326.030000  19.40    110.62  2007\n",
       "4     Radial Velocity       1      516.220000  10.50    119.47  2009\n",
       "...               ...     ...             ...    ...       ...   ...\n",
       "1030          Transit       1        3.941507    NaN    172.00  2006\n",
       "1031          Transit       1        2.615864    NaN    148.00  2007\n",
       "1032          Transit       1        3.191524    NaN    174.00  2007\n",
       "1033          Transit       1        4.125083    NaN    293.00  2008\n",
       "1034          Transit       1        4.187757    NaN    260.00  2008\n",
       "\n",
       "[1035 rows x 6 columns]"
      ]
     },
     "execution_count": 16,
     "metadata": {},
     "output_type": "execute_result"
    }
   ],
   "source": [
    "data_planets"
   ]
  },
  {
   "cell_type": "code",
   "execution_count": 37,
   "id": "79de6832-1f60-4507-8c6d-5a1b644f1ef8",
   "metadata": {},
   "outputs": [
    {
     "data": {
      "text/plain": [
       "<AxesSubplot:xlabel='x', ylabel='y'>"
      ]
     },
     "execution_count": 37,
     "metadata": {},
     "output_type": "execute_result"
    },
    {
     "data": {
      "image/png": "[encoded data removed]",
      "text/plain": [
       "<Figure size 432x288 with 1 Axes>"
      ]
     },
     "metadata": {
      "needs_background": "light"
     },
     "output_type": "display_data"
    }
   ],
   "source": [
    "planetdirection=(1/data_planets[\"orbital_period\"])*1000\n",
    "data_planets[\"x\"]=list(map(lambda p,q:math.sin(q)*p,data_planets[\"distance\"], planetdirection)   )\n",
    "\n",
    "data_planets[\"y\"]=list(map(lambda p,q:math.cos(q)*p,data_planets[\"distance\"], planetdirection)   )\n",
    "\n",
    "sns.scatterplot(data=data_planets, x=\"x\", y=\"y\", size=\"mass\")\n"
   ]
  }
 ],
 "metadata": {
  "colab": {
   "collapsed_sections": [],
   "name": "Visualizaciones.ipynb",
   "provenance": []
  },
  "kernelspec": {
   "display_name": "Python 3 (ipykernel)",
   "language": "python",
   "name": "python3"
  },
  "language_info": {
   "codemirror_mode": {
    "name": "ipython",
    "version": 3
   },
   "file_extension": ".py",
   "mimetype": "text/x-python",
   "name": "python",
   "nbconvert_exporter": "python",
   "pygments_lexer": "ipython3",
   "version": "3.10.4"
  }
 },
 "nbformat": 4,
 "nbformat_minor": 5
}
