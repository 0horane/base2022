{
 "cells": [
  {
   "cell_type": "code",
   "execution_count": 2,
   "id": "99c960eb-1a9b-4b55-90b5-bbef030ff7c2",
   "metadata": {},
   "outputs": [
    {
     "ename": "NameError",
     "evalue": "name 'data' is not defined",
     "output_type": "error",
     "traceback": [
      "\u001b[0;31m---------------------------------------------------------------------------\u001b[0m",
      "\u001b[0;31mNameError\u001b[0m                                 Traceback (most recent call last)",
      "Input \u001b[0;32mIn [2]\u001b[0m, in \u001b[0;36m<cell line: 8>\u001b[0;34m()\u001b[0m\n\u001b[1;32m      6\u001b[0m data2 \u001b[38;5;241m=\u001b[39m originaldata\u001b[38;5;241m.\u001b[39mcopy() \n\u001b[1;32m      7\u001b[0m filtropublico \u001b[38;5;241m=\u001b[39m data2[\u001b[38;5;124m\"\u001b[39m\u001b[38;5;124mTIPO_EFECTOR\u001b[39m\u001b[38;5;124m\"\u001b[39m]\u001b[38;5;241m==\u001b[39m\u001b[38;5;124m\"\u001b[39m\u001b[38;5;124mPúblico\u001b[39m\u001b[38;5;124m\"\u001b[39m \u001b[38;5;66;03m#suponiendo que no queremos los publicos nacionales\u001b[39;00m\n\u001b[0;32m----> 8\u001b[0m data2\u001b[38;5;241m=\u001b[39m\u001b[43mdata\u001b[49m\u001b[38;5;241m.\u001b[39mloc[filtropublico]\n",
      "\u001b[0;31mNameError\u001b[0m: name 'data' is not defined"
     ]
    }
   ],
   "source": [
    "import pandas as pd\n",
    "\n",
    "originaldata =  pd.read_csv(\"datasetproyecto.csv\", sep=\",\")\n",
    "\n",
    "#1\n",
    "data2 = originaldata.copy() \n",
    "filtropublico = data2[\"TIPO_EFECTOR\"]==\"Público\" #suponiendo que no queremos los publicos nacionales\n",
    "data2=data.loc[filtropublico]\n",
    "\n"
   ]
  },
  {
   "cell_type": "code",
   "execution_count": null,
   "id": "83b60e74-9956-4877-a523-7ae78a0adc84",
   "metadata": {},
   "outputs": [],
   "source": []
  }
 ],
 "metadata": {
  "kernelspec": {
   "display_name": "Python 3 (ipykernel)",
   "language": "python",
   "name": "python3"
  },
  "language_info": {
   "codemirror_mode": {
    "name": "ipython",
    "version": 3
   },
   "file_extension": ".py",
   "mimetype": "text/x-python",
   "name": "python",
   "nbconvert_exporter": "python",
   "pygments_lexer": "ipython3",
   "version": "3.10.4"
  }
 },
 "nbformat": 4,
 "nbformat_minor": 5
}
